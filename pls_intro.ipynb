{
 "cells": [
  {
   "cell_type": "code",
   "execution_count": 1,
   "metadata": {},
   "outputs": [],
   "source": [
    "import numpy as np\n",
    "import pandas as pd\n",
    "import matplotlib.pyplot as plt\n",
    "% matplotlib inline\n",
    "from sklearn.linear_model import LinearRegression\n",
    "from sklearn.cross_decomposition import PLSRegression\n",
    "import seaborn as sns"
   ]
  },
  {
   "cell_type": "code",
   "execution_count": 2,
   "metadata": {},
   "outputs": [],
   "source": [
    "n = 1000 # datapoints\n",
    "p = 10 # features\n",
    "X = np.random.normal(size=n*p).reshape((n,p))\n",
    "\n",
    "min_2 = 2+abs(X[:, 2].min())\n",
    "\n",
    "y = 0.6*X[:, 0] + 0.6*X[:, 1] + np.log(min_2+X[:, 2]) + 0.3*np.random.normal(size=n*1) + (np.add(X[:, 3], X[:, 4]))/5 + np.power(np.absolute(X[:, 5]), 1/3)\n",
    "\n"
   ]
  },
  {
   "cell_type": "code",
   "execution_count": 3,
   "metadata": {
    "scrolled": true
   },
   "outputs": [
    {
     "data": {
      "text/html": [
       "<div>\n",
       "<style scoped>\n",
       "    .dataframe tbody tr th:only-of-type {\n",
       "        vertical-align: middle;\n",
       "    }\n",
       "\n",
       "    .dataframe tbody tr th {\n",
       "        vertical-align: top;\n",
       "    }\n",
       "\n",
       "    .dataframe thead th {\n",
       "        text-align: right;\n",
       "    }\n",
       "</style>\n",
       "<table border=\"1\" class=\"dataframe\">\n",
       "  <thead>\n",
       "    <tr style=\"text-align: right;\">\n",
       "      <th></th>\n",
       "      <th>0</th>\n",
       "      <th>1</th>\n",
       "      <th>2</th>\n",
       "      <th>3</th>\n",
       "      <th>4</th>\n",
       "      <th>5</th>\n",
       "      <th>6</th>\n",
       "      <th>7</th>\n",
       "      <th>8</th>\n",
       "      <th>9</th>\n",
       "      <th>10</th>\n",
       "    </tr>\n",
       "  </thead>\n",
       "  <tbody>\n",
       "    <tr>\n",
       "      <th>0</th>\n",
       "      <td>4.200870</td>\n",
       "      <td>1.772207</td>\n",
       "      <td>0.449154</td>\n",
       "      <td>0.425330</td>\n",
       "      <td>0.278304</td>\n",
       "      <td>-1.176229</td>\n",
       "      <td>0.883430</td>\n",
       "      <td>-0.401626</td>\n",
       "      <td>-0.445564</td>\n",
       "      <td>-1.436498</td>\n",
       "      <td>-0.493993</td>\n",
       "    </tr>\n",
       "    <tr>\n",
       "      <th>1</th>\n",
       "      <td>1.865855</td>\n",
       "      <td>-1.236343</td>\n",
       "      <td>-1.020220</td>\n",
       "      <td>0.821715</td>\n",
       "      <td>-1.775768</td>\n",
       "      <td>0.097291</td>\n",
       "      <td>-1.942655</td>\n",
       "      <td>-0.903883</td>\n",
       "      <td>-0.418883</td>\n",
       "      <td>-0.055944</td>\n",
       "      <td>-0.510393</td>\n",
       "    </tr>\n",
       "    <tr>\n",
       "      <th>2</th>\n",
       "      <td>4.246214</td>\n",
       "      <td>1.510853</td>\n",
       "      <td>1.036176</td>\n",
       "      <td>-1.508976</td>\n",
       "      <td>-0.286210</td>\n",
       "      <td>1.579675</td>\n",
       "      <td>-1.700947</td>\n",
       "      <td>1.216180</td>\n",
       "      <td>-0.191709</td>\n",
       "      <td>0.310635</td>\n",
       "      <td>-1.806458</td>\n",
       "    </tr>\n",
       "    <tr>\n",
       "      <th>3</th>\n",
       "      <td>3.853245</td>\n",
       "      <td>1.282099</td>\n",
       "      <td>0.956345</td>\n",
       "      <td>-0.607945</td>\n",
       "      <td>-1.435724</td>\n",
       "      <td>1.113200</td>\n",
       "      <td>0.782522</td>\n",
       "      <td>-1.364115</td>\n",
       "      <td>-0.900854</td>\n",
       "      <td>-0.690651</td>\n",
       "      <td>0.852314</td>\n",
       "    </tr>\n",
       "    <tr>\n",
       "      <th>4</th>\n",
       "      <td>2.691524</td>\n",
       "      <td>-0.391935</td>\n",
       "      <td>1.377337</td>\n",
       "      <td>-0.068079</td>\n",
       "      <td>0.255891</td>\n",
       "      <td>-1.170791</td>\n",
       "      <td>-0.162980</td>\n",
       "      <td>-1.514086</td>\n",
       "      <td>-0.738030</td>\n",
       "      <td>0.563529</td>\n",
       "      <td>0.129468</td>\n",
       "    </tr>\n",
       "  </tbody>\n",
       "</table>\n",
       "</div>"
      ],
      "text/plain": [
       "         0         1         2         3         4         5         6   \\\n",
       "0  4.200870  1.772207  0.449154  0.425330  0.278304 -1.176229  0.883430   \n",
       "1  1.865855 -1.236343 -1.020220  0.821715 -1.775768  0.097291 -1.942655   \n",
       "2  4.246214  1.510853  1.036176 -1.508976 -0.286210  1.579675 -1.700947   \n",
       "3  3.853245  1.282099  0.956345 -0.607945 -1.435724  1.113200  0.782522   \n",
       "4  2.691524 -0.391935  1.377337 -0.068079  0.255891 -1.170791 -0.162980   \n",
       "\n",
       "         7         8         9         10  \n",
       "0 -0.401626 -0.445564 -1.436498 -0.493993  \n",
       "1 -0.903883 -0.418883 -0.055944 -0.510393  \n",
       "2  1.216180 -0.191709  0.310635 -1.806458  \n",
       "3 -1.364115 -0.900854 -0.690651  0.852314  \n",
       "4 -1.514086 -0.738030  0.563529  0.129468  "
      ]
     },
     "execution_count": 3,
     "metadata": {},
     "output_type": "execute_result"
    }
   ],
   "source": [
    "pd.DataFrame(np.insert(X, 0, y, axis=1)).head() # insert into X 0th column, y"
   ]
  },
  {
   "cell_type": "code",
   "execution_count": 4,
   "metadata": {},
   "outputs": [],
   "source": [
    "corrmat = pd.DataFrame(np.insert(X, 0, y, axis=1)).corr()"
   ]
  },
  {
   "cell_type": "code",
   "execution_count": 5,
   "metadata": {
    "scrolled": true
   },
   "outputs": [
    {
     "data": {
      "text/html": [
       "<div>\n",
       "<style scoped>\n",
       "    .dataframe tbody tr th:only-of-type {\n",
       "        vertical-align: middle;\n",
       "    }\n",
       "\n",
       "    .dataframe tbody tr th {\n",
       "        vertical-align: top;\n",
       "    }\n",
       "\n",
       "    .dataframe thead th {\n",
       "        text-align: right;\n",
       "    }\n",
       "</style>\n",
       "<table border=\"1\" class=\"dataframe\">\n",
       "  <thead>\n",
       "    <tr style=\"text-align: right;\">\n",
       "      <th></th>\n",
       "      <th>0</th>\n",
       "      <th>1</th>\n",
       "      <th>2</th>\n",
       "      <th>3</th>\n",
       "      <th>4</th>\n",
       "      <th>5</th>\n",
       "      <th>6</th>\n",
       "      <th>7</th>\n",
       "      <th>8</th>\n",
       "      <th>9</th>\n",
       "      <th>10</th>\n",
       "    </tr>\n",
       "  </thead>\n",
       "  <tbody>\n",
       "    <tr>\n",
       "      <th>0</th>\n",
       "      <td>1.000000</td>\n",
       "      <td>0.589809</td>\n",
       "      <td>0.617781</td>\n",
       "      <td>0.150199</td>\n",
       "      <td>0.201663</td>\n",
       "      <td>0.188202</td>\n",
       "      <td>-0.038867</td>\n",
       "      <td>-0.031263</td>\n",
       "      <td>0.034069</td>\n",
       "      <td>0.020907</td>\n",
       "      <td>0.071819</td>\n",
       "    </tr>\n",
       "    <tr>\n",
       "      <th>1</th>\n",
       "      <td>0.589809</td>\n",
       "      <td>1.000000</td>\n",
       "      <td>0.004362</td>\n",
       "      <td>-0.009274</td>\n",
       "      <td>-0.006679</td>\n",
       "      <td>-0.033115</td>\n",
       "      <td>0.016620</td>\n",
       "      <td>-0.039359</td>\n",
       "      <td>0.007530</td>\n",
       "      <td>0.018377</td>\n",
       "      <td>0.053523</td>\n",
       "    </tr>\n",
       "    <tr>\n",
       "      <th>2</th>\n",
       "      <td>0.617781</td>\n",
       "      <td>0.004362</td>\n",
       "      <td>1.000000</td>\n",
       "      <td>-0.047170</td>\n",
       "      <td>0.002262</td>\n",
       "      <td>-0.005415</td>\n",
       "      <td>-0.009425</td>\n",
       "      <td>0.012901</td>\n",
       "      <td>0.036078</td>\n",
       "      <td>0.007811</td>\n",
       "      <td>0.032853</td>\n",
       "    </tr>\n",
       "    <tr>\n",
       "      <th>3</th>\n",
       "      <td>0.150199</td>\n",
       "      <td>-0.009274</td>\n",
       "      <td>-0.047170</td>\n",
       "      <td>1.000000</td>\n",
       "      <td>0.020652</td>\n",
       "      <td>0.006125</td>\n",
       "      <td>0.001303</td>\n",
       "      <td>0.019897</td>\n",
       "      <td>0.054421</td>\n",
       "      <td>0.021229</td>\n",
       "      <td>0.045107</td>\n",
       "    </tr>\n",
       "    <tr>\n",
       "      <th>4</th>\n",
       "      <td>0.201663</td>\n",
       "      <td>-0.006679</td>\n",
       "      <td>0.002262</td>\n",
       "      <td>0.020652</td>\n",
       "      <td>1.000000</td>\n",
       "      <td>0.036272</td>\n",
       "      <td>-0.038884</td>\n",
       "      <td>-0.007967</td>\n",
       "      <td>-0.039846</td>\n",
       "      <td>-0.071690</td>\n",
       "      <td>0.051767</td>\n",
       "    </tr>\n",
       "    <tr>\n",
       "      <th>5</th>\n",
       "      <td>0.188202</td>\n",
       "      <td>-0.033115</td>\n",
       "      <td>-0.005415</td>\n",
       "      <td>0.006125</td>\n",
       "      <td>0.036272</td>\n",
       "      <td>1.000000</td>\n",
       "      <td>-0.063070</td>\n",
       "      <td>-0.004834</td>\n",
       "      <td>0.030221</td>\n",
       "      <td>-0.007638</td>\n",
       "      <td>0.024382</td>\n",
       "    </tr>\n",
       "    <tr>\n",
       "      <th>6</th>\n",
       "      <td>-0.038867</td>\n",
       "      <td>0.016620</td>\n",
       "      <td>-0.009425</td>\n",
       "      <td>0.001303</td>\n",
       "      <td>-0.038884</td>\n",
       "      <td>-0.063070</td>\n",
       "      <td>1.000000</td>\n",
       "      <td>-0.038339</td>\n",
       "      <td>-0.020174</td>\n",
       "      <td>0.008160</td>\n",
       "      <td>-0.014769</td>\n",
       "    </tr>\n",
       "    <tr>\n",
       "      <th>7</th>\n",
       "      <td>-0.031263</td>\n",
       "      <td>-0.039359</td>\n",
       "      <td>0.012901</td>\n",
       "      <td>0.019897</td>\n",
       "      <td>-0.007967</td>\n",
       "      <td>-0.004834</td>\n",
       "      <td>-0.038339</td>\n",
       "      <td>1.000000</td>\n",
       "      <td>-0.020645</td>\n",
       "      <td>0.018534</td>\n",
       "      <td>0.089163</td>\n",
       "    </tr>\n",
       "    <tr>\n",
       "      <th>8</th>\n",
       "      <td>0.034069</td>\n",
       "      <td>0.007530</td>\n",
       "      <td>0.036078</td>\n",
       "      <td>0.054421</td>\n",
       "      <td>-0.039846</td>\n",
       "      <td>0.030221</td>\n",
       "      <td>-0.020174</td>\n",
       "      <td>-0.020645</td>\n",
       "      <td>1.000000</td>\n",
       "      <td>-0.033094</td>\n",
       "      <td>0.048416</td>\n",
       "    </tr>\n",
       "    <tr>\n",
       "      <th>9</th>\n",
       "      <td>0.020907</td>\n",
       "      <td>0.018377</td>\n",
       "      <td>0.007811</td>\n",
       "      <td>0.021229</td>\n",
       "      <td>-0.071690</td>\n",
       "      <td>-0.007638</td>\n",
       "      <td>0.008160</td>\n",
       "      <td>0.018534</td>\n",
       "      <td>-0.033094</td>\n",
       "      <td>1.000000</td>\n",
       "      <td>0.026344</td>\n",
       "    </tr>\n",
       "    <tr>\n",
       "      <th>10</th>\n",
       "      <td>0.071819</td>\n",
       "      <td>0.053523</td>\n",
       "      <td>0.032853</td>\n",
       "      <td>0.045107</td>\n",
       "      <td>0.051767</td>\n",
       "      <td>0.024382</td>\n",
       "      <td>-0.014769</td>\n",
       "      <td>0.089163</td>\n",
       "      <td>0.048416</td>\n",
       "      <td>0.026344</td>\n",
       "      <td>1.000000</td>\n",
       "    </tr>\n",
       "  </tbody>\n",
       "</table>\n",
       "</div>"
      ],
      "text/plain": [
       "          0         1         2         3         4         5         6   \\\n",
       "0   1.000000  0.589809  0.617781  0.150199  0.201663  0.188202 -0.038867   \n",
       "1   0.589809  1.000000  0.004362 -0.009274 -0.006679 -0.033115  0.016620   \n",
       "2   0.617781  0.004362  1.000000 -0.047170  0.002262 -0.005415 -0.009425   \n",
       "3   0.150199 -0.009274 -0.047170  1.000000  0.020652  0.006125  0.001303   \n",
       "4   0.201663 -0.006679  0.002262  0.020652  1.000000  0.036272 -0.038884   \n",
       "5   0.188202 -0.033115 -0.005415  0.006125  0.036272  1.000000 -0.063070   \n",
       "6  -0.038867  0.016620 -0.009425  0.001303 -0.038884 -0.063070  1.000000   \n",
       "7  -0.031263 -0.039359  0.012901  0.019897 -0.007967 -0.004834 -0.038339   \n",
       "8   0.034069  0.007530  0.036078  0.054421 -0.039846  0.030221 -0.020174   \n",
       "9   0.020907  0.018377  0.007811  0.021229 -0.071690 -0.007638  0.008160   \n",
       "10  0.071819  0.053523  0.032853  0.045107  0.051767  0.024382 -0.014769   \n",
       "\n",
       "          7         8         9         10  \n",
       "0  -0.031263  0.034069  0.020907  0.071819  \n",
       "1  -0.039359  0.007530  0.018377  0.053523  \n",
       "2   0.012901  0.036078  0.007811  0.032853  \n",
       "3   0.019897  0.054421  0.021229  0.045107  \n",
       "4  -0.007967 -0.039846 -0.071690  0.051767  \n",
       "5  -0.004834  0.030221 -0.007638  0.024382  \n",
       "6  -0.038339 -0.020174  0.008160 -0.014769  \n",
       "7   1.000000 -0.020645  0.018534  0.089163  \n",
       "8  -0.020645  1.000000 -0.033094  0.048416  \n",
       "9   0.018534 -0.033094  1.000000  0.026344  \n",
       "10  0.089163  0.048416  0.026344  1.000000  "
      ]
     },
     "execution_count": 5,
     "metadata": {},
     "output_type": "execute_result"
    }
   ],
   "source": [
    "corrmat"
   ]
  },
  {
   "cell_type": "code",
   "execution_count": 6,
   "metadata": {},
   "outputs": [
    {
     "data": {
      "image/png": "[encoded data removed]",
      "text/plain": [
       "<matplotlib.figure.Figure at 0x181307501d0>"
      ]
     },
     "metadata": {},
     "output_type": "display_data"
    }
   ],
   "source": [
    "sns.heatmap(corrmat, vmax=0.8, square=True)\n",
    "plt.show()"
   ]
  },
  {
   "cell_type": "code",
   "execution_count": 7,
   "metadata": {},
   "outputs": [],
   "source": [
    "regr = LinearRegression()"
   ]
  },
  {
   "cell_type": "code",
   "execution_count": 8,
   "metadata": {},
   "outputs": [
    {
     "data": {
      "text/plain": [
       "LinearRegression(copy_X=True, fit_intercept=True, n_jobs=1, normalize=False)"
      ]
     },
     "execution_count": 8,
     "metadata": {},
     "output_type": "execute_result"
    }
   ],
   "source": [
    "regr.fit(X, y)"
   ]
  },
  {
   "cell_type": "code",
   "execution_count": 9,
   "metadata": {},
   "outputs": [
    {
     "name": "stdout",
     "output_type": "stream",
     "text": [
      "R-squared regression: 0.8430540328354996\n"
     ]
    }
   ],
   "source": [
    "# Save predicted values.\n",
    "Y_pred = regr.predict(X)\n",
    "print('R-squared regression:', regr.score(X, y))"
   ]
  },
  {
   "cell_type": "code",
   "execution_count": 10,
   "metadata": {},
   "outputs": [],
   "source": [
    "# Fit a linear model using Partial Least Squares Regression.\n",
    "# Reduce feature space to 3 dimensions.\n",
    "pls1 = PLSRegression(n_components=1)"
   ]
  },
  {
   "cell_type": "code",
   "execution_count": 11,
   "metadata": {},
   "outputs": [
    {
     "data": {
      "text/plain": [
       "PLSRegression(copy=True, max_iter=500, n_components=1, scale=True, tol=1e-06)"
      ]
     },
     "execution_count": 11,
     "metadata": {},
     "output_type": "execute_result"
    }
   ],
   "source": [
    "# Reduce X to R(X) and regress on y.\n",
    "pls1.fit(X, y)"
   ]
  },
  {
   "cell_type": "code",
   "execution_count": 12,
   "metadata": {},
   "outputs": [
    {
     "name": "stdout",
     "output_type": "stream",
     "text": [
      "R-squared PLSR: 0.8349578525549064\n"
     ]
    }
   ],
   "source": [
    "# Save predicted values.\n",
    "Y_PLS_pred = pls1.predict(X)\n",
    "print('R-squared PLSR:', pls1.score(X, y))"
   ]
  },
  {
   "cell_type": "code",
   "execution_count": 13,
   "metadata": {},
   "outputs": [
    {
     "data": {
      "image/png": "[encoded data removed]",
      "text/plain": [
       "<matplotlib.figure.Figure at 0x181306a5e10>"
      ]
     },
     "metadata": {},
     "output_type": "display_data"
    }
   ],
   "source": [
    "# Compare the predictions of the two models\n",
    "plt.scatter(Y_pred,Y_PLS_pred) \n",
    "plt.xlabel('Predicted by original 10 features')\n",
    "plt.ylabel('Predicted by 1 features')\n",
    "plt.title('Comparing LR and PLSR predictions')\n",
    "plt.show()"
   ]
  },
  {
   "cell_type": "code",
   "execution_count": null,
   "metadata": {},
   "outputs": [],
   "source": []
  },
  {
   "cell_type": "code",
   "execution_count": null,
   "metadata": {},
   "outputs": [],
   "source": []
  },
  {
   "cell_type": "code",
   "execution_count": null,
   "metadata": {},
   "outputs": [],
   "source": []
  }
 ],
 "metadata": {
  "kernelspec": {
   "display_name": "Python 3",
   "language": "python",
   "name": "python3"
  },
  "language_info": {
   "codemirror_mode": {
    "name": "ipython",
    "version": 3
   },
   "file_extension": ".py",
   "mimetype": "text/x-python",
   "name": "python",
   "nbconvert_exporter": "python",
   "pygments_lexer": "ipython3",
   "version": "3.6.4"
  }
 },
 "nbformat": 4,
 "nbformat_minor": 2
}
