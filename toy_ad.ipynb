{
 "cells": [
  {
   "cell_type": "code",
   "execution_count": 98,
   "metadata": {},
   "outputs": [],
   "source": [
    "import numpy as np\n",
    "import pandas as pd\n",
    "import matplotlib.pyplot as plt\n",
    "% matplotlib inline\n",
    "from sklearn.linear_model import LinearRegression\n",
    "from sklearn import preprocessing"
   ]
  },
  {
   "cell_type": "markdown",
   "metadata": {},
   "source": [
    "## Assumptions of Multivariable Linear Regression\n",
    "1. linear relationship\n",
    "    - features in regression need linear relationship with outcome\n",
    "2. multivariate normality\n",
    "    - errors from model should be normally distributed\n",
    "3. homoscedasticity\n",
    "    - distribution of error terms (its scedasticity) should be consistent for all predicted values (or homoscedastic)\n",
    "4. low multicollinearity\n",
    "    - correlations among features should be low or nonexistent"
   ]
  },
  {
   "cell_type": "code",
   "execution_count": 99,
   "metadata": {},
   "outputs": [],
   "source": [
    "data_o = pd.read_csv('https://tf-curricula-prod.s3.amazonaws.com/data-science/Advertising.csv')"
   ]
  },
  {
   "cell_type": "code",
   "execution_count": 143,
   "metadata": {},
   "outputs": [],
   "source": [
    "data = pd.DataFrame(preprocessing.MinMaxScaler().fit_transform(data_o), columns=data_o.columns)"
   ]
  },
  {
   "cell_type": "code",
   "execution_count": 144,
   "metadata": {},
   "outputs": [
    {
     "data": {
      "text/plain": [
       "LinearRegression(copy_X=True, fit_intercept=True, n_jobs=1, normalize=False)"
      ]
     },
     "execution_count": 144,
     "metadata": {},
     "output_type": "execute_result"
    }
   ],
   "source": [
    "# Instantiate and fit our model.\n",
    "regr = LinearRegression()\n",
    "Y = data['Sales'].values.reshape(-1, 1)\n",
    "X = data[['TV','Radio','Newspaper']]\n",
    "regr.fit(X, Y)"
   ]
  },
  {
   "cell_type": "code",
   "execution_count": 145,
   "metadata": {},
   "outputs": [
    {
     "data": {
      "text/plain": [
       "array([[ 0.53277975,  0.3681531 , -0.00464421]])"
      ]
     },
     "execution_count": 145,
     "metadata": {},
     "output_type": "execute_result"
    }
   ],
   "source": [
    "regr.coef_"
   ]
  },
  {
   "cell_type": "code",
   "execution_count": 146,
   "metadata": {},
   "outputs": [
    {
     "data": {
      "text/plain": [
       "array([0.05396116])"
      ]
     },
     "execution_count": 146,
     "metadata": {},
     "output_type": "execute_result"
    }
   ],
   "source": [
    "regr.intercept_"
   ]
  },
  {
   "cell_type": "code",
   "execution_count": 147,
   "metadata": {},
   "outputs": [
    {
     "data": {
      "text/plain": [
       "0.8972106381789521"
      ]
     },
     "execution_count": 147,
     "metadata": {},
     "output_type": "execute_result"
    }
   ],
   "source": [
    "regr.score(X, Y)"
   ]
  },
  {
   "cell_type": "code",
   "execution_count": 148,
   "metadata": {
    "scrolled": true
   },
   "outputs": [
    {
     "data.head()": {
      "text/html": [
       "<div>\n",
       "<style scoped>\n",
       "    .dataframe tbody tr th:only-of-type {\n",
       "        vertical-align: middle;\n",
       "    }\n",
       "\n",
       "    .dataframe tbody tr th {\n",
       "        vertical-align: top;\n",
       "    }\n",
       "\n",
       "    .dataframe thead th {\n",
       "        text-align: right;\n",
       "    }\n",
       "</style>\n",
       "<table border=\"1\" class=\"dataframe\">\n",
       "  <thead>\n",
       "    <tr style=\"text-align: right;\">\n",
       "      <th></th>\n",
       "      <th>Unnamed: 0</th>\n",
       "      <th>TV</th>\n",
       "      <th>Radio</th>\n",
       "      <th>Newspaper</th>\n",
       "      <th>Sales</th>\n",
       "    </tr>\n",
       "  </thead>\n",
       "  <tbody>\n",
       "    <tr>\n",
       "      <th>0</th>\n",
       "      <td>0.000000</td>\n",
       "      <td>0.775786</td>\n",
       "      <td>0.762097</td>\n",
       "      <td>0.605981</td>\n",
       "      <td>0.807087</td>\n",
       "    </tr>\n",
       "    <tr>\n",
       "      <th>1</th>\n",
       "      <td>0.005025</td>\n",
       "      <td>0.148123</td>\n",
       "      <td>0.792339</td>\n",
       "      <td>0.394019</td>\n",
       "      <td>0.346457</td>\n",
       "    </tr>\n",
       "    <tr>\n",
       "      <th>2</th>\n",
       "      <td>0.010050</td>\n",
       "      <td>0.055800</td>\n",
       "      <td>0.925403</td>\n",
       "      <td>0.606860</td>\n",
       "      <td>0.303150</td>\n",
       "    </tr>\n",
       "    <tr>\n",
       "      <th>3</th>\n",
       "      <td>0.015075</td>\n",
       "      <td>0.509976</td>\n",
       "      <td>0.832661</td>\n",
       "      <td>0.511873</td>\n",
       "      <td>0.665354</td>\n",
       "    </tr>\n",
       "    <tr>\n",
       "      <th>4</th>\n",
       "      <td>0.020101</td>\n",
       "      <td>0.609063</td>\n",
       "      <td>0.217742</td>\n",
       "      <td>0.510994</td>\n",
       "      <td>0.444882</td>\n",
       "    </tr>\n",
       "    <tr>\n",
       "      <th>5</th>\n",
       "      <td>0.025126</td>\n",
       "      <td>0.027054</td>\n",
       "      <td>0.985887</td>\n",
       "      <td>0.656992</td>\n",
       "      <td>0.220472</td>\n",
       "    </tr>\n",
       "    <tr>\n",
       "      <th>6</th>\n",
       "      <td>0.030151</td>\n",
       "      <td>0.192087</td>\n",
       "      <td>0.661290</td>\n",
       "      <td>0.204046</td>\n",
       "      <td>0.401575</td>\n",
       "    </tr>\n",
       "    <tr>\n",
       "      <th>7</th>\n",
       "      <td>0.035176</td>\n",
       "      <td>0.404126</td>\n",
       "      <td>0.395161</td>\n",
       "      <td>0.099384</td>\n",
       "      <td>0.456693</td>\n",
       "    </tr>\n",
       "    <tr>\n",
       "      <th>8</th>\n",
       "      <td>0.040201</td>\n",
       "      <td>0.026716</td>\n",
       "      <td>0.042339</td>\n",
       "      <td>0.006157</td>\n",
       "      <td>0.125984</td>\n",
       "    </tr>\n",
       "    <tr>\n",
       "      <th>9</th>\n",
       "      <td>0.045226</td>\n",
       "      <td>0.673318</td>\n",
       "      <td>0.052419</td>\n",
       "      <td>0.183817</td>\n",
       "      <td>0.354331</td>\n",
       "    </tr>\n",
       "    <tr>\n",
       "      <th>10</th>\n",
       "      <td>0.050251</td>\n",
       "      <td>0.221170</td>\n",
       "      <td>0.116935</td>\n",
       "      <td>0.210202</td>\n",
       "      <td>0.275591</td>\n",
       "    </tr>\n",
       "    <tr>\n",
       "      <th>11</th>\n",
       "      <td>0.055276</td>\n",
       "      <td>0.723706</td>\n",
       "      <td>0.483871</td>\n",
       "      <td>0.032542</td>\n",
       "      <td>0.622047</td>\n",
       "    </tr>\n",
       "    <tr>\n",
       "      <th>12</th>\n",
       "      <td>0.060302</td>\n",
       "      <td>0.078120</td>\n",
       "      <td>0.707661</td>\n",
       "      <td>0.576957</td>\n",
       "      <td>0.299213</td>\n",
       "    </tr>\n",
       "    <tr>\n",
       "      <th>13</th>\n",
       "      <td>0.065327</td>\n",
       "      <td>0.327359</td>\n",
       "      <td>0.153226</td>\n",
       "      <td>0.060686</td>\n",
       "      <td>0.318898</td>\n",
       "    </tr>\n",
       "    <tr>\n",
       "      <th>14</th>\n",
       "      <td>0.070352</td>\n",
       "      <td>0.687859</td>\n",
       "      <td>0.663306</td>\n",
       "      <td>0.401935</td>\n",
       "      <td>0.685039</td>\n",
       "    </tr>\n",
       "    <tr>\n",
       "      <th>15</th>\n",
       "      <td>0.075377</td>\n",
       "      <td>0.658438</td>\n",
       "      <td>0.961694</td>\n",
       "      <td>0.462621</td>\n",
       "      <td>0.818898</td>\n",
       "    </tr>\n",
       "    <tr>\n",
       "      <th>16</th>\n",
       "      <td>0.080402</td>\n",
       "      <td>0.226919</td>\n",
       "      <td>0.737903</td>\n",
       "      <td>1.000000</td>\n",
       "      <td>0.429134</td>\n",
       "    </tr>\n",
       "    <tr>\n",
       "      <th>17</th>\n",
       "      <td>0.085427</td>\n",
       "      <td>0.949273</td>\n",
       "      <td>0.798387</td>\n",
       "      <td>0.488127</td>\n",
       "      <td>0.897638</td>\n",
       "    </tr>\n",
       "    <tr>\n",
       "      <th>18</th>\n",
       "      <td>0.090452</td>\n",
       "      <td>0.231654</td>\n",
       "      <td>0.413306</td>\n",
       "      <td>0.158311</td>\n",
       "      <td>0.381890</td>\n",
       "    </tr>\n",
       "    <tr>\n",
       "      <th>19</th>\n",
       "      <td>0.095477</td>\n",
       "      <td>0.495773</td>\n",
       "      <td>0.481855</td>\n",
       "      <td>0.165347</td>\n",
       "      <td>0.511811</td>\n",
       "    </tr>\n",
       "    <tr>\n",
       "      <th>20</th>\n",
       "      <td>0.100503</td>\n",
       "      <td>0.736219</td>\n",
       "      <td>0.558468</td>\n",
       "      <td>0.467018</td>\n",
       "      <td>0.645669</td>\n",
       "    </tr>\n",
       "    <tr>\n",
       "      <th>21</th>\n",
       "      <td>0.105528</td>\n",
       "      <td>0.800473</td>\n",
       "      <td>0.102823</td>\n",
       "      <td>0.204046</td>\n",
       "      <td>0.429134</td>\n",
       "    </tr>\n",
       "    <tr>\n",
       "      <th>22</th>\n",
       "      <td>0.110553</td>\n",
       "      <td>0.042273</td>\n",
       "      <td>0.320565</td>\n",
       "      <td>0.433597</td>\n",
       "      <td>0.157480</td>\n",
       "    </tr>\n",
       "    <tr>\n",
       "      <th>23</th>\n",
       "      <td>0.115578</td>\n",
       "      <td>0.769699</td>\n",
       "      <td>0.340726</td>\n",
       "      <td>0.227792</td>\n",
       "      <td>0.547244</td>\n",
       "    </tr>\n",
       "    <tr>\n",
       "      <th>24</th>\n",
       "      <td>0.120603</td>\n",
       "      <td>0.208319</td>\n",
       "      <td>0.254032</td>\n",
       "      <td>0.158311</td>\n",
       "      <td>0.318898</td>\n",
       "    </tr>\n",
       "    <tr>\n",
       "      <th>25</th>\n",
       "      <td>0.125628</td>\n",
       "      <td>0.886710</td>\n",
       "      <td>0.070565</td>\n",
       "      <td>0.168865</td>\n",
       "      <td>0.409449</td>\n",
       "    </tr>\n",
       "    <tr>\n",
       "      <th>26</th>\n",
       "      <td>0.130653</td>\n",
       "      <td>0.480893</td>\n",
       "      <td>0.590726</td>\n",
       "      <td>0.108179</td>\n",
       "      <td>0.527559</td>\n",
       "    </tr>\n",
       "    <tr>\n",
       "      <th>27</th>\n",
       "      <td>0.135678</td>\n",
       "      <td>0.809604</td>\n",
       "      <td>0.336694</td>\n",
       "      <td>0.198769</td>\n",
       "      <td>0.562992</td>\n",
       "    </tr>\n",
       "    <tr>\n",
       "      <th>28</th>\n",
       "      <td>0.140704</td>\n",
       "      <td>0.839026</td>\n",
       "      <td>0.546371</td>\n",
       "      <td>0.198769</td>\n",
       "      <td>0.681102</td>\n",
       "    </tr>\n",
       "    <tr>\n",
       "      <th>29</th>\n",
       "      <td>0.145729</td>\n",
       "      <td>0.236388</td>\n",
       "      <td>0.322581</td>\n",
       "      <td>0.356201</td>\n",
       "      <td>0.350394</td>\n",
       "    </tr>\n",
       "    <tr>\n",
       "      <th>...</th>\n",
       "      <td>...</td>\n",
       "      <td>...</td>\n",
       "      <td>...</td>\n",
       "      <td>...</td>\n",
       "      <td>...</td>\n",
       "    </tr>\n",
       "    <tr>\n",
       "      <th>170</th>\n",
       "      <td>0.854271</td>\n",
       "      <td>0.166723</td>\n",
       "      <td>0.233871</td>\n",
       "      <td>0.159191</td>\n",
       "      <td>0.267717</td>\n",
       "    </tr>\n",
       "    <tr>\n",
       "      <th>171</th>\n",
       "      <td>0.859296</td>\n",
       "      <td>0.553940</td>\n",
       "      <td>0.421371</td>\n",
       "      <td>0.414248</td>\n",
       "      <td>0.507874</td>\n",
       "    </tr>\n",
       "    <tr>\n",
       "      <th>172</th>\n",
       "      <td>0.864322</td>\n",
       "      <td>0.063916</td>\n",
       "      <td>0.405242</td>\n",
       "      <td>0.146878</td>\n",
       "      <td>0.236220</td>\n",
       "    </tr>\n",
       "    <tr>\n",
       "      <th>173</th>\n",
       "      <td>0.869347</td>\n",
       "      <td>0.567129</td>\n",
       "      <td>0.143145</td>\n",
       "      <td>0.109938</td>\n",
       "      <td>0.397638</td>\n",
       "    </tr>\n",
       "    <tr>\n",
       "      <th>174</th>\n",
       "      <td>0.874372</td>\n",
       "      <td>0.749746</td>\n",
       "      <td>0.068548</td>\n",
       "      <td>0.112577</td>\n",
       "      <td>0.389764</td>\n",
       "    </tr>\n",
       "    <tr>\n",
       "      <th>175</th>\n",
       "      <td>0.879397</td>\n",
       "      <td>0.934055</td>\n",
       "      <td>0.985887</td>\n",
       "      <td>0.364996</td>\n",
       "      <td>1.000000</td>\n",
       "    </tr>\n",
       "    <tr>\n",
       "      <th>176</th>\n",
       "      <td>0.884422</td>\n",
       "      <td>0.837673</td>\n",
       "      <td>0.608871</td>\n",
       "      <td>0.175901</td>\n",
       "      <td>0.732283</td>\n",
       "    </tr>\n",
       "    <tr>\n",
       "      <th>177</th>\n",
       "      <td>0.889447</td>\n",
       "      <td>0.573216</td>\n",
       "      <td>0.157258</td>\n",
       "      <td>0.306948</td>\n",
       "      <td>0.397638</td>\n",
       "    </tr>\n",
       "    <tr>\n",
       "      <th>178</th>\n",
       "      <td>0.894472</td>\n",
       "      <td>0.933378</td>\n",
       "      <td>0.046371</td>\n",
       "      <td>0.205805</td>\n",
       "      <td>0.401575</td>\n",
       "    </tr>\n",
       "    <tr>\n",
       "      <th>179</th>\n",
       "      <td>0.899497</td>\n",
       "      <td>0.557660</td>\n",
       "      <td>0.201613</td>\n",
       "      <td>0.152155</td>\n",
       "      <td>0.433071</td>\n",
       "    </tr>\n",
       "    <tr>\n",
       "      <th>180</th>\n",
       "      <td>0.904523</td>\n",
       "      <td>0.527224</td>\n",
       "      <td>0.052419</td>\n",
       "      <td>0.070361</td>\n",
       "      <td>0.350394</td>\n",
       "    </tr>\n",
       "    <tr>\n",
       "      <th>181</th>\n",
       "      <td>0.909548</td>\n",
       "      <td>0.736557</td>\n",
       "      <td>0.108871</td>\n",
       "      <td>0.238347</td>\n",
       "      <td>0.417323</td>\n",
       "    </tr>\n",
       "    <tr>\n",
       "      <th>182</th>\n",
       "      <td>0.914573</td>\n",
       "      <td>0.187690</td>\n",
       "      <td>0.114919</td>\n",
       "      <td>0.258575</td>\n",
       "      <td>0.279528</td>\n",
       "    </tr>\n",
       "    <tr>\n",
       "      <th>183</th>\n",
       "      <td>0.919598</td>\n",
       "      <td>0.970240</td>\n",
       "      <td>0.866935</td>\n",
       "      <td>0.628848</td>\n",
       "      <td>0.968504</td>\n",
       "    </tr>\n",
       "    <tr>\n",
       "      <th>184</th>\n",
       "      <td>0.924623</td>\n",
       "      <td>0.855935</td>\n",
       "      <td>0.429435</td>\n",
       "      <td>0.261214</td>\n",
       "      <td>0.629921</td>\n",
       "    </tr>\n",
       "    <tr>\n",
       "      <th>185</th>\n",
       "      <td>0.929648</td>\n",
       "      <td>0.690903</td>\n",
       "      <td>0.909274</td>\n",
       "      <td>0.169745</td>\n",
       "      <td>0.826772</td>\n",
       "    </tr>\n",
       "    <tr>\n",
       "      <th>186</th>\n",
       "      <td>0.934673</td>\n",
       "      <td>0.469395</td>\n",
       "      <td>0.042339</td>\n",
       "      <td>0.231310</td>\n",
       "      <td>0.342520</td>\n",
       "    </tr>\n",
       "    <tr>\n",
       "      <th>187</th>\n",
       "      <td>0.939698</td>\n",
       "      <td>0.643896</td>\n",
       "      <td>0.578629</td>\n",
       "      <td>0.157432</td>\n",
       "      <td>0.618110</td>\n",
       "    </tr>\n",
       "    <tr>\n",
       "      <th>188</th>\n",
       "      <td>0.944724</td>\n",
       "      <td>0.964829</td>\n",
       "      <td>0.280242</td>\n",
       "      <td>0.029903</td>\n",
       "      <td>0.562992</td>\n",
       "    </tr>\n",
       "    <tr>\n",
       "      <th>189</th>\n",
       "      <td>0.949749</td>\n",
       "      <td>0.060873</td>\n",
       "      <td>0.243952</td>\n",
       "      <td>0.203166</td>\n",
       "      <td>0.200787</td>\n",
       "    </tr>\n",
       "    <tr>\n",
       "      <th>190</th>\n",
       "      <td>0.954774</td>\n",
       "      <td>0.131214</td>\n",
       "      <td>0.828629</td>\n",
       "      <td>0.048373</td>\n",
       "      <td>0.362205</td>\n",
       "    </tr>\n",
       "    <tr>\n",
       "      <th>191</th>\n",
       "      <td>0.959799</td>\n",
       "      <td>0.252959</td>\n",
       "      <td>0.217742</td>\n",
       "      <td>0.050132</td>\n",
       "      <td>0.326772</td>\n",
       "    </tr>\n",
       "    <tr>\n",
       "      <th>192</th>\n",
       "      <td>0.964824</td>\n",
       "      <td>0.055800</td>\n",
       "      <td>0.082661</td>\n",
       "      <td>0.275286</td>\n",
       "      <td>0.169291</td>\n",
       "    </tr>\n",
       "    <tr>\n",
       "      <th>193</th>\n",
       "      <td>0.969849</td>\n",
       "      <td>0.561718</td>\n",
       "      <td>0.846774</td>\n",
       "      <td>0.029024</td>\n",
       "      <td>0.708661</td>\n",
       "    </tr>\n",
       "    <tr>\n",
       "      <th>194</th>\n",
       "      <td>0.974874</td>\n",
       "      <td>0.503889</td>\n",
       "      <td>0.717742</td>\n",
       "      <td>0.050132</td>\n",
       "      <td>0.618110</td>\n",
       "    </tr>\n",
       "    <tr>\n",
       "      <th>195</th>\n",
       "      <td>0.979899</td>\n",
       "      <td>0.126818</td>\n",
       "      <td>0.074597</td>\n",
       "      <td>0.118734</td>\n",
       "      <td>0.236220</td>\n",
       "    </tr>\n",
       "    <tr>\n",
       "      <th>196</th>\n",
       "      <td>0.984925</td>\n",
       "      <td>0.316199</td>\n",
       "      <td>0.098790</td>\n",
       "      <td>0.068602</td>\n",
       "      <td>0.318898</td>\n",
       "    </tr>\n",
       "    <tr>\n",
       "      <th>197</th>\n",
       "      <td>0.989950</td>\n",
       "      <td>0.596212</td>\n",
       "      <td>0.187500</td>\n",
       "      <td>0.053650</td>\n",
       "      <td>0.440945</td>\n",
       "    </tr>\n",
       "    <tr>\n",
       "      <th>198</th>\n",
       "      <td>0.994975</td>\n",
       "      <td>0.956713</td>\n",
       "      <td>0.846774</td>\n",
       "      <td>0.579595</td>\n",
       "      <td>0.940945</td>\n",
       "    </tr>\n",
       "    <tr>\n",
       "      <th>199</th>\n",
       "      <td>1.000000</td>\n",
       "      <td>0.782550</td>\n",
       "      <td>0.173387</td>\n",
       "      <td>0.073879</td>\n",
       "      <td>0.464567</td>\n",
       "    </tr>\n",
       "  </tbody>\n",
       "</table>\n",
       "<p>200 rows × 5 columns</p>\n",
       "</div>"
      ],
      "text/plain": [
       "     Unnamed: 0        TV     Radio  Newspaper     Sales\n",
       "0      0.000000  0.775786  0.762097   0.605981  0.807087\n",
       "1      0.005025  0.148123  0.792339   0.394019  0.346457\n",
       "2      0.010050  0.055800  0.925403   0.606860  0.303150\n",
       "3      0.015075  0.509976  0.832661   0.511873  0.665354\n",
       "4      0.020101  0.609063  0.217742   0.510994  0.444882\n",
       "5      0.025126  0.027054  0.985887   0.656992  0.220472\n",
       "6      0.030151  0.192087  0.661290   0.204046  0.401575\n",
       "7      0.035176  0.404126  0.395161   0.099384  0.456693\n",
       "8      0.040201  0.026716  0.042339   0.006157  0.125984\n",
       "9      0.045226  0.673318  0.052419   0.183817  0.354331\n",
       "10     0.050251  0.221170  0.116935   0.210202  0.275591\n",
       "11     0.055276  0.723706  0.483871   0.032542  0.622047\n",
       "12     0.060302  0.078120  0.707661   0.576957  0.299213\n",
       "13     0.065327  0.327359  0.153226   0.060686  0.318898\n",
       "14     0.070352  0.687859  0.663306   0.401935  0.685039\n",
       "15     0.075377  0.658438  0.961694   0.462621  0.818898\n",
       "16     0.080402  0.226919  0.737903   1.000000  0.429134\n",
       "17     0.085427  0.949273  0.798387   0.488127  0.897638\n",
       "18     0.090452  0.231654  0.413306   0.158311  0.381890\n",
       "19     0.095477  0.495773  0.481855   0.165347  0.511811\n",
       "20     0.100503  0.736219  0.558468   0.467018  0.645669\n",
       "21     0.105528  0.800473  0.102823   0.204046  0.429134\n",
       "22     0.110553  0.042273  0.320565   0.433597  0.157480\n",
       "23     0.115578  0.769699  0.340726   0.227792  0.547244\n",
       "24     0.120603  0.208319  0.254032   0.158311  0.318898\n",
       "25     0.125628  0.886710  0.070565   0.168865  0.409449\n",
       "26     0.130653  0.480893  0.590726   0.108179  0.527559\n",
       "27     0.135678  0.809604  0.336694   0.198769  0.562992\n",
       "28     0.140704  0.839026  0.546371   0.198769  0.681102\n",
       "29     0.145729  0.236388  0.322581   0.356201  0.350394\n",
       "..          ...       ...       ...        ...       ...\n",
       "170    0.854271  0.166723  0.233871   0.159191  0.267717\n",
       "171    0.859296  0.553940  0.421371   0.414248  0.507874\n",
       "172    0.864322  0.063916  0.405242   0.146878  0.236220\n",
       "173    0.869347  0.567129  0.143145   0.109938  0.397638\n",
       "174    0.874372  0.749746  0.068548   0.112577  0.389764\n",
       "175    0.879397  0.934055  0.985887   0.364996  1.000000\n",
       "176    0.884422  0.837673  0.608871   0.175901  0.732283\n",
       "177    0.889447  0.573216  0.157258   0.306948  0.397638\n",
       "178    0.894472  0.933378  0.046371   0.205805  0.401575\n",
       "179    0.899497  0.557660  0.201613   0.152155  0.433071\n",
       "180    0.904523  0.527224  0.052419   0.070361  0.350394\n",
       "181    0.909548  0.736557  0.108871   0.238347  0.417323\n",
       "182    0.914573  0.187690  0.114919   0.258575  0.279528\n",
       "183    0.919598  0.970240  0.866935   0.628848  0.968504\n",
       "184    0.924623  0.855935  0.429435   0.261214  0.629921\n",
       "185    0.929648  0.690903  0.909274   0.169745  0.826772\n",
       "186    0.934673  0.469395  0.042339   0.231310  0.342520\n",
       "187    0.939698  0.643896  0.578629   0.157432  0.618110\n",
       "188    0.944724  0.964829  0.280242   0.029903  0.562992\n",
       "189    0.949749  0.060873  0.243952   0.203166  0.200787\n",
       "190    0.954774  0.131214  0.828629   0.048373  0.362205\n",
       "191    0.959799  0.252959  0.217742   0.050132  0.326772\n",
       "192    0.964824  0.055800  0.082661   0.275286  0.169291\n",
       "193    0.969849  0.561718  0.846774   0.029024  0.708661\n",
       "194    0.974874  0.503889  0.717742   0.050132  0.618110\n",
       "195    0.979899  0.126818  0.074597   0.118734  0.236220\n",
       "196    0.984925  0.316199  0.098790   0.068602  0.318898\n",
       "197    0.989950  0.596212  0.187500   0.053650  0.440945\n",
       "198    0.994975  0.956713  0.846774   0.579595  0.940945\n",
       "199    1.000000  0.782550  0.173387   0.073879  0.464567\n",
       "\n",
       "[200 rows x 5 columns]"
      ]
     },
     "execution_count": 148,
     "metadata": {},
     "output_type": "execute_result"
    }
   ],
   "source": [
    "data"
   ]
  },
  {
   "cell_type": "code",
   "execution_count": null,
   "metadata": {},
   "outputs": [],
   "source": []
  },
  {
   "cell_type": "code",
   "execution_count": 150,
   "metadata": {},
   "outputs": [
    {
     "data": {
      "text/plain": [
       "array([[1.        , 0.78222442],\n",
       "       [0.78222442, 1.        ]])"
      ]
     },
     "execution_count": 150,
     "metadata": {},
     "output_type": "execute_result"
    }
   ],
   "source": [
    "np.corrcoef(data.TV, data.Sales)"
   ]
  },
  {
   "cell_type": "code",
   "execution_count": 151,
   "metadata": {},
   "outputs": [
    {
     "data": {
      "text/plain": [
       "array([[1.        , 0.57622257],\n",
       "       [0.57622257, 1.        ]])"
      ]
     },
     "execution_count": 151,
     "metadata": {},
     "output_type": "execute_result"
    }
   ],
   "source": [
    "np.corrcoef(data.Radio, data.Sales)"
   ]
  },
  {
   "cell_type": "code",
   "execution_count": 152,
   "metadata": {},
   "outputs": [
    {
     "data": {
      "text/plain": [
       "array([[1.        , 0.22829903],\n",
       "       [0.22829903, 1.        ]])"
      ]
     },
     "execution_count": 152,
     "metadata": {},
     "output_type": "execute_result"
    }
   ],
   "source": [
    "np.corrcoef(data.Newspaper, data.Sales)"
   ]
  },
  {
   "cell_type": "code",
   "execution_count": 153,
   "metadata": {},
   "outputs": [
    {
     "data": {
      "text/plain": [
       "<matplotlib.collections.PathCollection at 0x1d3f2058400>"
      ]
     },
     "execution_count": 153,
     "metadata": {},
     "output_type": "execute_result"
    },
    {
     "data": {
      "image/png": "[encoded data removed]",
      "text/plain": [
       "<matplotlib.figure.Figure at 0x1d3f2058d30>"
      ]
     },
     "metadata": {},
     "output_type": "display_data"
    }
   ],
   "source": [
    "plt.scatter(data.TV, data.Sales)"
   ]
  },
  {
   "cell_type": "code",
   "execution_count": 154,
   "metadata": {},
   "outputs": [
    {
     "data": {
      "text/plain": [
       "<matplotlib.collections.PathCollection at 0x1d3f1f257b8>"
      ]
     },
     "execution_count": 154,
     "metadata": {},
     "output_type": "execute_result"
    },
    {
     "data": {
      "image/png": "[encoded data removed]",
      "text/plain": [
       "<matplotlib.figure.Figure at 0x1d3f1f40d30>"
      ]
     },
     "metadata": {},
     "output_type": "display_data"
    }
   ],
   "source": [
    "plt.scatter(data.Radio, data.Sales)"
   ]
  },
  {
   "cell_type": "code",
   "execution_count": 278,
   "metadata": {
    "scrolled": true
   },
   "outputs": [],
   "source": [
    "data['TV_radio'] = data.TV + data.Radio"
   ]
  },
  {
   "cell_type": "code",
   "execution_count": 279,
   "metadata": {},
   "outputs": [
    {
     "data": {
      "text/plain": [
       "<matplotlib.collections.PathCollection at 0x1d3f4a2d5f8>"
      ]
     },
     "execution_count": 279,
     "metadata": {},
     "output_type": "execute_result"
    },
    {
     "data": {
      "image/png": "[encoded data removed]",
      "text/plain": [
       "<matplotlib.figure.Figure at 0x1d3f37f4be0>"
      ]
     },
     "metadata": {},
     "output_type": "display_data"
    }
   ],
   "source": [
    "plt.scatter(data.TV_radio, data.Sales)"
   ]
  },
  {
   "cell_type": "code",
   "execution_count": 280,
   "metadata": {},
   "outputs": [
    {
     "data": {
      "text/plain": [
       "array([[1.        , 0.93301923],\n",
       "       [0.93301923, 1.        ]])"
      ]
     },
     "execution_count": 280,
     "metadata": {},
     "output_type": "execute_result"
    }
   ],
   "source": [
    "np.corrcoef(data.TV_radio, data.Sales)"
   ]
  },
  {
   "cell_type": "code",
   "execution_count": 281,
   "metadata": {},
   "outputs": [
    {
     "data": {
      "text/plain": [
       "<matplotlib.collections.PathCollection at 0x1d3f4a96198>"
      ]
     },
     "execution_count": 281,
     "metadata": {},
     "output_type": "execute_result"
    },
    {
     "data": {
      "image/png": "[encoded data removed]",
      "text/plain": [
       "<matplotlib.figure.Figure at 0x1d3f4a04d68>"
      ]
     },
     "metadata": {},
     "output_type": "display_data"
    }
   ],
   "source": [
    "plt.scatter(data.TV + data.Radio + data.Newspaper, data.Sales)"
   ]
  },
  {
   "cell_type": "code",
   "execution_count": 282,
   "metadata": {},
   "outputs": [
    {
     "data": {
      "text/plain": [
       "array([[1.       , 0.8579247],\n",
       "       [0.8579247, 1.       ]])"
      ]
     },
     "execution_count": 282,
     "metadata": {},
     "output_type": "execute_result"
    }
   ],
   "source": [
    "np.corrcoef(data.TV + data.Radio + data.Newspaper, data.Sales)"
   ]
  },
  {
   "cell_type": "code",
   "execution_count": null,
   "metadata": {},
   "outputs": [],
   "source": []
  },
  {
   "cell_type": "code",
   "execution_count": null,
   "metadata": {},
   "outputs": [],
   "source": []
  },
  {
   "cell_type": "code",
   "execution_count": null,
   "metadata": {},
   "outputs": [],
   "source": []
  },
  {
   "cell_type": "code",
   "execution_count": null,
   "metadata": {},
   "outputs": [],
   "source": []
  },
  {
   "cell_type": "code",
   "execution_count": 155,
   "metadata": {},
   "outputs": [
    {
     "data": {
      "text/plain": [
       "<matplotlib.collections.PathCollection at 0x1d3f1f87160>"
      ]
     },
     "execution_count": 155,
     "metadata": {},
     "output_type": "execute_result"
    },
    {
     "data": {
      "image/png": "[encoded data removed]",
      "text/plain": [
       "<matplotlib.figure.Figure at 0x1d3f1f126d8>"
      ]
     },
     "metadata": {},
     "output_type": "display_data"
    }
   ],
   "source": [
    "plt.scatter(data.Newspaper, data.Sales)"
   ]
  },
  {
   "cell_type": "code",
   "execution_count": 175,
   "metadata": {},
   "outputs": [],
   "source": [
    "data['TV_log'] = data.TV.apply(lambda x: np.log(x))"
   ]
  },
  {
   "cell_type": "code",
   "execution_count": 176,
   "metadata": {},
   "outputs": [
    {
     "data": {
      "text/plain": [
       "<matplotlib.collections.PathCollection at 0x1d3f21a70b8>"
      ]
     },
     "execution_count": 176,
     "metadata": {},
     "output_type": "execute_result"
    },
    {
     "data": {
      "image/png": "[encoded data removed]",
      "text/plain": [
       "<matplotlib.figure.Figure at 0x1d3f208a630>"
      ]
     },
     "metadata": {},
     "output_type": "display_data"
    }
   ],
   "source": [
    "plt.scatter(data.TV_log, data.Sales)"
   ]
  },
  {
   "cell_type": "code",
   "execution_count": 256,
   "metadata": {},
   "outputs": [],
   "source": [
    "data['TV_sqrt'] = np.power(data.TV, .6)"
   ]
  },
  {
   "cell_type": "code",
   "execution_count": 257,
   "metadata": {},
   "outputs": [
    {
     "data": {
      "text/plain": [
       "<matplotlib.collections.PathCollection at 0x1d3f249a2e8>"
      ]
     },
     "execution_count": 257,
     "metadata": {},
     "output_type": "execute_result"
    },
    {
     "data": {
      "image/png": "[encoded data removed]",
      "text/plain": [
       "<matplotlib.figure.Figure at 0x1d3f07994a8>"
      ]
     },
     "metadata": {},
     "output_type": "display_data"
    }
   ],
   "source": [
    "plt.scatter(data.TV_sqrt, data.Sales)"
   ]
  },
  {
   "cell_type": "code",
   "execution_count": 258,
   "metadata": {},
   "outputs": [
    {
     "data": {
      "text/plain": [
       "array([[1.        , 0.79011185],\n",
       "       [0.79011185, 1.        ]])"
      ]
     },
     "execution_count": 258,
     "metadata": {},
     "output_type": "execute_result"
    }
   ],
   "source": [
    "np.corrcoef(data.TV_sqrt, data.Sales)"
   ]
  },
  {
   "cell_type": "code",
   "execution_count": null,
   "metadata": {},
   "outputs": [],
   "source": []
  },
  {
   "cell_type": "code",
   "execution_count": 335,
   "metadata": {},
   "outputs": [
    {
     "data": {
      "text/plain": [
       "LinearRegression(copy_X=True, fit_intercept=True, n_jobs=1, normalize=False)"
      ]
     },
     "execution_count": 335,
     "metadata": {},
     "output_type": "execute_result"
    }
   ],
   "source": [
    "# Instantiate and fit our model.\n",
    "regr = LinearRegression()\n",
    "Y = data['Sales'].values.reshape(-1, 1)\n",
    "X = data[['Radio','TV_sqrt']]\n",
    "regr.fit(X, Y)"
   ]
  },
  {
   "cell_type": "code",
   "execution_count": 336,
   "metadata": {},
   "outputs": [
    {
     "data": {
      "text/plain": [
       "array([[0.37698604, 0.61218972]])"
      ]
     },
     "execution_count": 336,
     "metadata": {},
     "output_type": "execute_result"
    }
   ],
   "source": [
    "regr.coef_"
   ]
  },
  {
   "cell_type": "code",
   "execution_count": 337,
   "metadata": {},
   "outputs": [
    {
     "data": {
      "text/plain": [
       "array([-0.06672399])"
      ]
     },
     "execution_count": 337,
     "metadata": {},
     "output_type": "execute_result"
    }
   ],
   "source": [
    "regr.intercept_"
   ]
  },
  {
   "cell_type": "code",
   "execution_count": 338,
   "metadata": {},
   "outputs": [
    {
     "data": {
      "text/plain": [
       "0.9256990255603927"
      ]
     },
     "execution_count": 338,
     "metadata": {},
     "output_type": "execute_result"
    }
   ],
   "source": [
    "regr.score(X,Y)"
   ]
  },
  {
   "cell_type": "code",
   "execution_count": null,
   "metadata": {},
   "outputs": [],
   "source": []
  },
  {
   "cell_type": "code",
   "execution_count": null,
   "metadata": {},
   "outputs": [],
   "source": []
  },
  {
   "cell_type": "code",
   "execution_count": null,
   "metadata": {},
   "outputs": [],
   "source": []
  },
  {
   "cell_type": "code",
   "execution_count": 267,
   "metadata": {},
   "outputs": [],
   "source": [
    "predicted = regr.predict(X).ravel()"
   ]
  },
  {
   "cell_type": "code",
   "execution_count": 268,
   "metadata": {},
   "outputs": [],
   "source": [
    "actual = data['Sales']"
   ]
  },
  {
   "cell_type": "code",
   "execution_count": 269,
   "metadata": {},
   "outputs": [],
   "source": [
    "residual = actual = predicted"
   ]
  },
  {
   "cell_type": "code",
   "execution_count": 270,
   "metadata": {},
   "outputs": [
    {
     "data": {
      "image/png": "[encoded data removed]",
      "text/plain": [
       "<matplotlib.figure.Figure at 0x1d3f3725128>"
      ]
     },
     "metadata": {},
     "output_type": "display_data"
    }
   ],
   "source": [
    "plt.hist(residual)\n",
    "plt.show()"
   ]
  },
  {
   "cell_type": "code",
   "execution_count": 271,
   "metadata": {},
   "outputs": [
    {
     "data": {
      "text/plain": [
       "<matplotlib.collections.PathCollection at 0x1d3f47edb00>"
      ]
     },
     "execution_count": 271,
     "metadata": {},
     "output_type": "execute_result"
    },
    {
     "data": {
      "image/png": "[encoded data removed]",
      "text/plain": [
       "<matplotlib.figure.Figure at 0x1d3f3731e80>"
      ]
     },
     "metadata": {},
     "output_type": "display_data"
    }
   ],
   "source": [
    "plt.scatter(predicted, residual)"
   ]
  },
  {
   "cell_type": "code",
   "execution_count": null,
   "metadata": {},
   "outputs": [],
   "source": []
  },
  {
   "cell_type": "code",
   "execution_count": null,
   "metadata": {},
   "outputs": [],
   "source": []
  },
  {
   "cell_type": "code",
   "execution_count": null,
   "metadata": {},
   "outputs": [],
   "source": []
  },
  {
   "cell_type": "code",
   "execution_count": null,
   "metadata": {},
   "outputs": [],
   "source": []
  }
 ],
 "metadata": {
  "kernelspec": {
   "display_name": "Python 3",
   "language": "python",
   "name": "python3"
  },
  "language_info": {
   "codemirror_mode": {
    "name": "ipython",
    "version": 3
   },
   "file_extension": ".py",
   "mimetype": "text/x-python",
   "name": "python",
   "nbconvert_exporter": "python",
   "pygments_lexer": "ipython3",
   "version": "3.6.4"
  }
 },
 "nbformat": 4,
 "nbformat_minor": 2
}
