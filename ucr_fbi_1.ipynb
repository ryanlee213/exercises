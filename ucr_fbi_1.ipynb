{
 "cells": [
  {
   "cell_type": "code",
   "execution_count": 1,
   "metadata": {},
   "outputs": [],
   "source": [
    "import numpy as np\n",
    "import pandas as pd\n",
    "import matplotlib.pyplot as plt\n",
    "% matplotlib inline"
   ]
  },
  {
   "cell_type": "code",
   "execution_count": 2,
   "metadata": {},
   "outputs": [],
   "source": [
    "from sklearn import preprocessing"
   ]
  },
  {
   "cell_type": "code",
   "execution_count": 3,
   "metadata": {},
   "outputs": [],
   "source": [
    "fbi = pd.read_excel('..\\..\\Downloads/table_8_offenses_known_to_law_enforcement_new_york_by_city_2013.xls')"
   ]
  },
  {
   "cell_type": "code",
   "execution_count": 4,
   "metadata": {},
   "outputs": [
    {
     "data": {
      "text/plain": [
       "0                             NEW YORK\n",
       "1    Offenses Known to Law Enforcement\n",
       "2                        by City, 2013\n",
       "Name: Table 8, dtype: object"
      ]
     },
     "execution_count": 4,
     "metadata": {},
     "output_type": "execute_result"
    }
   ],
   "source": [
    "# info about data\n",
    "fbi.iloc[0:3, 0]"
   ]
  },
  {
   "cell_type": "code",
   "execution_count": 5,
   "metadata": {},
   "outputs": [],
   "source": [
    "# dropping first 3 rows\n",
    "df = fbi.drop([0, 1, 2], axis=0)"
   ]
  },
  {
   "cell_type": "code",
   "execution_count": 6,
   "metadata": {},
   "outputs": [],
   "source": [
    "# using row as column titles\n",
    "df.rename(columns=df.iloc[0], inplace=True)"
   ]
  },
  {
   "cell_type": "code",
   "execution_count": 7,
   "metadata": {},
   "outputs": [],
   "source": [
    "df = df.reindex(df.index.drop(3)).reset_index(drop=True)"
   ]
  },
  {
   "cell_type": "code",
   "execution_count": 8,
   "metadata": {},
   "outputs": [
    {
     "data": {
      "text/html": [
       "<div>\n",
       "<style scoped>\n",
       "    .dataframe tbody tr th:only-of-type {\n",
       "        vertical-align: middle;\n",
       "    }\n",
       "\n",
       "    .dataframe tbody tr th {\n",
       "        vertical-align: top;\n",
       "    }\n",
       "\n",
       "    .dataframe thead th {\n",
       "        text-align: right;\n",
       "    }\n",
       "</style>\n",
       "<table border=\"1\" class=\"dataframe\">\n",
       "  <thead>\n",
       "    <tr style=\"text-align: right;\">\n",
       "      <th></th>\n",
       "      <th>City</th>\n",
       "      <th>Population</th>\n",
       "      <th>Violent\n",
       "crime</th>\n",
       "      <th>Murder and\n",
       "nonnegligent\n",
       "manslaughter</th>\n",
       "      <th>Rape\n",
       "(revised\n",
       "definition)1</th>\n",
       "      <th>Rape\n",
       "(legacy\n",
       "definition)2</th>\n",
       "      <th>Robbery</th>\n",
       "      <th>Aggravated\n",
       "assault</th>\n",
       "      <th>Property\n",
       "crime</th>\n",
       "      <th>Burglary</th>\n",
       "      <th>Larceny-\n",
       "theft</th>\n",
       "      <th>Motor\n",
       "vehicle\n",
       "theft</th>\n",
       "      <th>Arson3</th>\n",
       "    </tr>\n",
       "  </thead>\n",
       "  <tbody>\n",
       "    <tr>\n",
       "      <th>346</th>\n",
       "      <td>Yonkers</td>\n",
       "      <td>199134</td>\n",
       "      <td>1036</td>\n",
       "      <td>6</td>\n",
       "      <td>NaN</td>\n",
       "      <td>25</td>\n",
       "      <td>390</td>\n",
       "      <td>615</td>\n",
       "      <td>2368</td>\n",
       "      <td>470</td>\n",
       "      <td>1662</td>\n",
       "      <td>236</td>\n",
       "      <td>10</td>\n",
       "    </tr>\n",
       "    <tr>\n",
       "      <th>347</th>\n",
       "      <td>Yorktown Town</td>\n",
       "      <td>36643</td>\n",
       "      <td>15</td>\n",
       "      <td>0</td>\n",
       "      <td>NaN</td>\n",
       "      <td>0</td>\n",
       "      <td>2</td>\n",
       "      <td>13</td>\n",
       "      <td>334</td>\n",
       "      <td>45</td>\n",
       "      <td>287</td>\n",
       "      <td>2</td>\n",
       "      <td>NaN</td>\n",
       "    </tr>\n",
       "    <tr>\n",
       "      <th>348</th>\n",
       "      <td>1 The figures shown in this column for the off...</td>\n",
       "      <td>NaN</td>\n",
       "      <td>NaN</td>\n",
       "      <td>NaN</td>\n",
       "      <td>NaN</td>\n",
       "      <td>NaN</td>\n",
       "      <td>NaN</td>\n",
       "      <td>NaN</td>\n",
       "      <td>NaN</td>\n",
       "      <td>NaN</td>\n",
       "      <td>NaN</td>\n",
       "      <td>NaN</td>\n",
       "      <td>NaN</td>\n",
       "    </tr>\n",
       "    <tr>\n",
       "      <th>349</th>\n",
       "      <td>2 The figures shown in this column for the off...</td>\n",
       "      <td>NaN</td>\n",
       "      <td>NaN</td>\n",
       "      <td>NaN</td>\n",
       "      <td>NaN</td>\n",
       "      <td>NaN</td>\n",
       "      <td>NaN</td>\n",
       "      <td>NaN</td>\n",
       "      <td>NaN</td>\n",
       "      <td>NaN</td>\n",
       "      <td>NaN</td>\n",
       "      <td>NaN</td>\n",
       "      <td>NaN</td>\n",
       "    </tr>\n",
       "    <tr>\n",
       "      <th>350</th>\n",
       "      <td>3 The FBI does not publish arson data unless i...</td>\n",
       "      <td>NaN</td>\n",
       "      <td>NaN</td>\n",
       "      <td>NaN</td>\n",
       "      <td>NaN</td>\n",
       "      <td>NaN</td>\n",
       "      <td>NaN</td>\n",
       "      <td>NaN</td>\n",
       "      <td>NaN</td>\n",
       "      <td>NaN</td>\n",
       "      <td>NaN</td>\n",
       "      <td>NaN</td>\n",
       "      <td>NaN</td>\n",
       "    </tr>\n",
       "  </tbody>\n",
       "</table>\n",
       "</div>"
      ],
      "text/plain": [
       "                                                  City Population  \\\n",
       "346                                            Yonkers     199134   \n",
       "347                                      Yorktown Town      36643   \n",
       "348  1 The figures shown in this column for the off...        NaN   \n",
       "349  2 The figures shown in this column for the off...        NaN   \n",
       "350  3 The FBI does not publish arson data unless i...        NaN   \n",
       "\n",
       "    Violent\\ncrime Murder and\\nnonnegligent\\nmanslaughter  \\\n",
       "346           1036                                      6   \n",
       "347             15                                      0   \n",
       "348            NaN                                    NaN   \n",
       "349            NaN                                    NaN   \n",
       "350            NaN                                    NaN   \n",
       "\n",
       "    Rape\\n(revised\\ndefinition)1 Rape\\n(legacy\\ndefinition)2 Robbery  \\\n",
       "346                          NaN                          25     390   \n",
       "347                          NaN                           0       2   \n",
       "348                          NaN                         NaN     NaN   \n",
       "349                          NaN                         NaN     NaN   \n",
       "350                          NaN                         NaN     NaN   \n",
       "\n",
       "    Aggravated\\nassault Property\\ncrime Burglary Larceny-\\ntheft  \\\n",
       "346                 615            2368      470            1662   \n",
       "347                  13             334       45             287   \n",
       "348                 NaN             NaN      NaN             NaN   \n",
       "349                 NaN             NaN      NaN             NaN   \n",
       "350                 NaN             NaN      NaN             NaN   \n",
       "\n",
       "    Motor\\nvehicle\\ntheft Arson3  \n",
       "346                   236     10  \n",
       "347                     2    NaN  \n",
       "348                   NaN    NaN  \n",
       "349                   NaN    NaN  \n",
       "350                   NaN    NaN  "
      ]
     },
     "execution_count": 8,
     "metadata": {},
     "output_type": "execute_result"
    }
   ],
   "source": [
    "df.tail()"
   ]
  },
  {
   "cell_type": "code",
   "execution_count": 9,
   "metadata": {},
   "outputs": [],
   "source": [
    "# notes for columns (Rape and Arson)\n",
    "note = df.iloc[348:, 0]"
   ]
  },
  {
   "cell_type": "code",
   "execution_count": 10,
   "metadata": {},
   "outputs": [],
   "source": [
    "# dropping notes from df\n",
    "df.drop([348, 349, 350], inplace=True)"
   ]
  },
  {
   "cell_type": "code",
   "execution_count": 11,
   "metadata": {},
   "outputs": [
    {
     "data": {
      "text/plain": [
       "0"
      ]
     },
     "execution_count": 11,
     "metadata": {},
     "output_type": "execute_result"
    }
   ],
   "source": [
    "# 2 'Rape' columns; the count of the first column...\n",
    "df.iloc[:, 4].count()"
   ]
  },
  {
   "cell_type": "code",
   "execution_count": 12,
   "metadata": {},
   "outputs": [],
   "source": [
    "# dropping 'revised Rape column', contains only NaN\n",
    "df.drop('Rape\\n(revised\\ndefinition)1', axis=1, inplace=True)"
   ]
  },
  {
   "cell_type": "code",
   "execution_count": 13,
   "metadata": {},
   "outputs": [],
   "source": [
    "# renaming columns\n",
    "df.rename(columns={'Violent\\ncrime': 'violent_crime', 'Murder and\\nnonnegligent\\nmanslaughter':'murder', 'Rape\\n(legacy\\ndefinition)2':'rape', 'Aggravated\\nassault': 'aggrvt_asslt', 'Property\\ncrime':'property_crime', 'Larceny-\\ntheft': 'larceny_theft', 'Motor\\nvehicle\\ntheft':'motor_veh_theft', 'Robbery': 'robbery', 'Arson3': 'arson', 'Burglary':'burglary'}, inplace=True)"
   ]
  },
  {
   "cell_type": "code",
   "execution_count": 14,
   "metadata": {},
   "outputs": [
    {
     "data": {
      "text/plain": [
       "Index(['City', 'Population', 'violent_crime', 'murder', 'rape', 'robbery',\n",
       "       'aggrvt_asslt', 'property_crime', 'burglary', 'larceny_theft',\n",
       "       'motor_veh_theft', 'arson'],\n",
       "      dtype='object')"
      ]
     },
     "execution_count": 14,
     "metadata": {},
     "output_type": "execute_result"
    }
   ],
   "source": [
    "df.columns"
   ]
  },
  {
   "cell_type": "code",
   "execution_count": 15,
   "metadata": {},
   "outputs": [],
   "source": [
    "df['population_sqr'] = np.square(df['Population'])"
   ]
  },
  {
   "cell_type": "code",
   "execution_count": 16,
   "metadata": {},
   "outputs": [
    {
     "data": {
      "text/plain": [
       "City                 0\n",
       "Population           0\n",
       "violent_crime        0\n",
       "murder               0\n",
       "rape                 0\n",
       "robbery              0\n",
       "aggrvt_asslt         0\n",
       "property_crime       0\n",
       "burglary             0\n",
       "larceny_theft        0\n",
       "motor_veh_theft      0\n",
       "arson              161\n",
       "population_sqr       0\n",
       "dtype: int64"
      ]
     },
     "execution_count": 16,
     "metadata": {},
     "output_type": "execute_result"
    }
   ],
   "source": [
    "# arson data not shown if full calendar year is not given\n",
    "# assume not given because 0\n",
    "df.isnull().sum()"
   ]
  },
  {
   "cell_type": "code",
   "execution_count": 17,
   "metadata": {
    "scrolled": true
   },
   "outputs": [],
   "source": [
    "df['arson'] = df['arson'].fillna(0)"
   ]
  },
  {
   "cell_type": "code",
   "execution_count": 18,
   "metadata": {},
   "outputs": [],
   "source": [
    "# # using 'City' column as index\n",
    "df.rename(index=df.iloc[:, 0], inplace=True)"
   ]
  },
  {
   "cell_type": "code",
   "execution_count": 19,
   "metadata": {},
   "outputs": [],
   "source": [
    "df.drop('City', axis=1, inplace=True)"
   ]
  },
  {
   "cell_type": "code",
   "execution_count": 20,
   "metadata": {},
   "outputs": [],
   "source": [
    "# creating copy of df in its raw(ish) state\n",
    "df_o = df.copy()"
   ]
  },
  {
   "cell_type": "code",
   "execution_count": 21,
   "metadata": {},
   "outputs": [
    {
     "data": {
      "text/plain": [
       "count      348\n",
       "unique     347\n",
       "top       9517\n",
       "freq         2\n",
       "Name: Population, dtype: int64"
      ]
     },
     "execution_count": 21,
     "metadata": {},
     "output_type": "execute_result"
    }
   ],
   "source": [
    "# how to fix\n",
    "df_o.Population.describe()"
   ]
  },
  {
   "cell_type": "code",
   "execution_count": 22,
   "metadata": {},
   "outputs": [],
   "source": [
    "# minmaxscaling\n",
    "df = pd.DataFrame(preprocessing.StandardScaler().fit_transform(df), columns=df.columns)"
   ]
  },
  {
   "cell_type": "code",
   "execution_count": 23,
   "metadata": {},
   "outputs": [
    {
     "data": {
      "text/html": [
       "<div>\n",
       "<style scoped>\n",
       "    .dataframe tbody tr th:only-of-type {\n",
       "        vertical-align: middle;\n",
       "    }\n",
       "\n",
       "    .dataframe tbody tr th {\n",
       "        vertical-align: top;\n",
       "    }\n",
       "\n",
       "    .dataframe thead th {\n",
       "        text-align: right;\n",
       "    }\n",
       "</style>\n",
       "<table border=\"1\" class=\"dataframe\">\n",
       "  <thead>\n",
       "    <tr style=\"text-align: right;\">\n",
       "      <th></th>\n",
       "      <th>Population</th>\n",
       "      <th>violent_crime</th>\n",
       "      <th>murder</th>\n",
       "      <th>rape</th>\n",
       "      <th>robbery</th>\n",
       "      <th>aggrvt_asslt</th>\n",
       "      <th>property_crime</th>\n",
       "      <th>burglary</th>\n",
       "      <th>larceny_theft</th>\n",
       "      <th>motor_veh_theft</th>\n",
       "      <th>arson</th>\n",
       "      <th>population_sqr</th>\n",
       "    </tr>\n",
       "  </thead>\n",
       "  <tbody>\n",
       "    <tr>\n",
       "      <th>0</th>\n",
       "      <td>-0.084952</td>\n",
       "      <td>-0.071711</td>\n",
       "      <td>-0.085685</td>\n",
       "      <td>-0.097201</td>\n",
       "      <td>-0.070810</td>\n",
       "      <td>-0.071176</td>\n",
       "      <td>-0.102057</td>\n",
       "      <td>-0.127416</td>\n",
       "      <td>-0.098947</td>\n",
       "      <td>-0.089129</td>\n",
       "      <td>-0.127742</td>\n",
       "      <td>-0.053943</td>\n",
       "    </tr>\n",
       "    <tr>\n",
       "      <th>1</th>\n",
       "      <td>-0.083359</td>\n",
       "      <td>-0.070644</td>\n",
       "      <td>-0.085685</td>\n",
       "      <td>-0.097201</td>\n",
       "      <td>-0.070810</td>\n",
       "      <td>-0.069415</td>\n",
       "      <td>-0.100488</td>\n",
       "      <td>-0.126333</td>\n",
       "      <td>-0.097368</td>\n",
       "      <td>-0.086647</td>\n",
       "      <td>-0.127742</td>\n",
       "      <td>-0.053942</td>\n",
       "    </tr>\n",
       "    <tr>\n",
       "      <th>2</th>\n",
       "      <td>-0.082760</td>\n",
       "      <td>-0.070644</td>\n",
       "      <td>-0.085685</td>\n",
       "      <td>-0.097201</td>\n",
       "      <td>-0.070810</td>\n",
       "      <td>-0.069415</td>\n",
       "      <td>-0.101534</td>\n",
       "      <td>-0.128499</td>\n",
       "      <td>-0.098158</td>\n",
       "      <td>-0.089129</td>\n",
       "      <td>-0.127742</td>\n",
       "      <td>-0.053942</td>\n",
       "    </tr>\n",
       "    <tr>\n",
       "      <th>3</th>\n",
       "      <td>0.128882</td>\n",
       "      <td>0.209662</td>\n",
       "      <td>0.352015</td>\n",
       "      <td>0.399994</td>\n",
       "      <td>0.149675</td>\n",
       "      <td>0.237567</td>\n",
       "      <td>0.431104</td>\n",
       "      <td>0.633720</td>\n",
       "      <td>0.411237</td>\n",
       "      <td>0.263365</td>\n",
       "      <td>-0.127742</td>\n",
       "      <td>-0.051401</td>\n",
       "    </tr>\n",
       "    <tr>\n",
       "      <th>4</th>\n",
       "      <td>-0.074878</td>\n",
       "      <td>-0.063529</td>\n",
       "      <td>-0.085685</td>\n",
       "      <td>-0.047481</td>\n",
       "      <td>-0.066925</td>\n",
       "      <td>-0.061785</td>\n",
       "      <td>-0.074471</td>\n",
       "      <td>-0.072199</td>\n",
       "      <td>-0.074487</td>\n",
       "      <td>-0.076718</td>\n",
       "      <td>-0.127742</td>\n",
       "      <td>-0.053933</td>\n",
       "    </tr>\n",
       "  </tbody>\n",
       "</table>\n",
       "</div>"
      ],
      "text/plain": [
       "   Population  violent_crime    murder      rape   robbery  aggrvt_asslt  \\\n",
       "0   -0.084952      -0.071711 -0.085685 -0.097201 -0.070810     -0.071176   \n",
       "1   -0.083359      -0.070644 -0.085685 -0.097201 -0.070810     -0.069415   \n",
       "2   -0.082760      -0.070644 -0.085685 -0.097201 -0.070810     -0.069415   \n",
       "3    0.128882       0.209662  0.352015  0.399994  0.149675      0.237567   \n",
       "4   -0.074878      -0.063529 -0.085685 -0.047481 -0.066925     -0.061785   \n",
       "\n",
       "   property_crime  burglary  larceny_theft  motor_veh_theft     arson  \\\n",
       "0       -0.102057 -0.127416      -0.098947        -0.089129 -0.127742   \n",
       "1       -0.100488 -0.126333      -0.097368        -0.086647 -0.127742   \n",
       "2       -0.101534 -0.128499      -0.098158        -0.089129 -0.127742   \n",
       "3        0.431104  0.633720       0.411237         0.263365 -0.127742   \n",
       "4       -0.074471 -0.072199      -0.074487        -0.076718 -0.127742   \n",
       "\n",
       "   population_sqr  \n",
       "0       -0.053943  \n",
       "1       -0.053942  \n",
       "2       -0.053942  \n",
       "3       -0.051401  \n",
       "4       -0.053933  "
      ]
     },
     "execution_count": 23,
     "metadata": {},
     "output_type": "execute_result"
    }
   ],
   "source": [
    "df.head()"
   ]
  },
  {
   "cell_type": "code",
   "execution_count": 24,
   "metadata": {},
   "outputs": [],
   "source": [
    "from sklearn.linear_model import LinearRegression\n",
    "from sklearn import preprocessing"
   ]
  },
  {
   "cell_type": "code",
   "execution_count": 25,
   "metadata": {},
   "outputs": [],
   "source": [
    "binarizer = preprocessing.Binarizer().fit(df)"
   ]
  },
  {
   "cell_type": "code",
   "execution_count": 26,
   "metadata": {},
   "outputs": [
    {
     "data": {
      "text/plain": [
       "Binarizer(copy=True, threshold=0.0)"
      ]
     },
     "execution_count": 26,
     "metadata": {},
     "output_type": "execute_result"
    }
   ],
   "source": [
    "binarizer"
   ]
  },
  {
   "cell_type": "code",
   "execution_count": 27,
   "metadata": {},
   "outputs": [],
   "source": [
    "bin_df = pd.DataFrame(binarizer.transform(df))"
   ]
  },
  {
   "cell_type": "code",
   "execution_count": 28,
   "metadata": {},
   "outputs": [],
   "source": [
    "bin_df = bin_df.iloc[:, 1:-1]"
   ]
  },
  {
   "cell_type": "code",
   "execution_count": 29,
   "metadata": {},
   "outputs": [
    {
     "data": {
      "text/plain": [
       "['feat_Population',\n",
       " 'feat_violent_crime',\n",
       " 'feat_murder',\n",
       " 'feat_rape',\n",
       " 'feat_robbery',\n",
       " 'feat_aggrvt_asslt',\n",
       " 'feat_property_crime',\n",
       " 'feat_burglary',\n",
       " 'feat_larceny_theft',\n",
       " 'feat_motor_veh_theft',\n",
       " 'feat_arson',\n",
       " 'feat_population_sqr']"
      ]
     },
     "execution_count": 29,
     "metadata": {},
     "output_type": "execute_result"
    }
   ],
   "source": [
    "['feat_' + string for string in df.columns.tolist() ]"
   ]
  },
  {
   "cell_type": "code",
   "execution_count": 30,
   "metadata": {},
   "outputs": [],
   "source": [
    "bin_df.columns = ['feat_' + string for string in df.iloc[:, 1:-1].columns.tolist() ]"
   ]
  },
  {
   "cell_type": "code",
   "execution_count": 31,
   "metadata": {},
   "outputs": [],
   "source": [
    "bin_df.index = [string for string in df.index.tolist()]"
   ]
  },
  {
   "cell_type": "code",
   "execution_count": 32,
   "metadata": {
    "scrolled": true
   },
   "outputs": [],
   "source": [
    "df = pd.concat([df, bin_df], axis=1)"
   ]
  },
  {
   "cell_type": "code",
   "execution_count": null,
   "metadata": {},
   "outputs": [],
   "source": []
  },
  {
   "cell_type": "code",
   "execution_count": null,
   "metadata": {},
   "outputs": [],
   "source": []
  },
  {
   "cell_type": "code",
   "execution_count": 33,
   "metadata": {},
   "outputs": [],
   "source": [
    "a = df[['Population', 'population_sqr', 'feat_murder', 'feat_robbery']]"
   ]
  },
  {
   "cell_type": "code",
   "execution_count": 34,
   "metadata": {},
   "outputs": [],
   "source": [
    "b = df[['Population', 'population_sqr', 'feat_murder', 'feat_robbery']].values"
   ]
  },
  {
   "cell_type": "code",
   "execution_count": 35,
   "metadata": {},
   "outputs": [],
   "source": [
    "regr = LinearRegression()"
   ]
  },
  {
   "cell_type": "code",
   "execution_count": 36,
   "metadata": {},
   "outputs": [
    {
     "data": {
      "text/plain": [
       "LinearRegression(copy_X=True, fit_intercept=True, n_jobs=1, normalize=False)"
      ]
     },
     "execution_count": 36,
     "metadata": {},
     "output_type": "execute_result"
    }
   ],
   "source": [
    "regr.fit(b, df.property_crime)"
   ]
  },
  {
   "cell_type": "code",
   "execution_count": 37,
   "metadata": {},
   "outputs": [
    {
     "data": {
      "text/plain": [
       "array([ 1.79513607, -0.80583276,  0.00321374,  0.09131733])"
      ]
     },
     "execution_count": 37,
     "metadata": {},
     "output_type": "execute_result"
    }
   ],
   "source": [
    "regr.coef_"
   ]
  },
  {
   "cell_type": "code",
   "execution_count": 38,
   "metadata": {},
   "outputs": [
    {
     "data": {
      "text/plain": [
       "-0.0046271317990218015"
      ]
     },
     "execution_count": 38,
     "metadata": {},
     "output_type": "execute_result"
    }
   ],
   "source": [
    "regr.intercept_"
   ]
  },
  {
   "cell_type": "code",
   "execution_count": 39,
   "metadata": {},
   "outputs": [
    {
     "data": {
      "text/plain": [
       "0.9963249434513605"
      ]
     },
     "execution_count": 39,
     "metadata": {},
     "output_type": "execute_result"
    }
   ],
   "source": [
    "regr.score(b, df.property_crime)"
   ]
  },
  {
   "cell_type": "code",
   "execution_count": null,
   "metadata": {},
   "outputs": [],
   "source": []
  },
  {
   "cell_type": "code",
   "execution_count": null,
   "metadata": {},
   "outputs": [],
   "source": []
  },
  {
   "cell_type": "code",
   "execution_count": 40,
   "metadata": {},
   "outputs": [],
   "source": [
    "import statsmodels.formula.api as smf\n",
    "from statsmodels.sandbox.regression.predstd import wls_prediction_std\n"
   ]
  },
  {
   "cell_type": "code",
   "execution_count": 41,
   "metadata": {},
   "outputs": [],
   "source": [
    "# Write out the model formula.\n",
    "# Your dependent variable on the right, independent variables on the left\n",
    "# Use a ~ to represent an '=' from the functional form\n",
    "linear_formula = 'property_crime ~ Population+violent_crime+murder+rape+robbery+aggrvt_asslt+burglary+larceny_theft+motor_veh_theft+arson'\n",
    "\n",
    "# Fit the model to our data using the formula.\n",
    "lm = smf.ols(formula=linear_formula, data=df).fit()"
   ]
  },
  {
   "cell_type": "code",
   "execution_count": 42,
   "metadata": {},
   "outputs": [
    {
     "data": {
      "text/plain": [
       "Index(['Population', 'violent_crime', 'murder', 'rape', 'robbery',\n",
       "       'aggrvt_asslt', 'property_crime', 'burglary', 'larceny_theft',\n",
       "       'motor_veh_theft', 'arson', 'population_sqr', 'feat_violent_crime',\n",
       "       'feat_murder', 'feat_rape', 'feat_robbery', 'feat_aggrvt_asslt',\n",
       "       'feat_property_crime', 'feat_burglary', 'feat_larceny_theft',\n",
       "       'feat_motor_veh_theft', 'feat_arson'],\n",
       "      dtype='object')"
      ]
     },
     "execution_count": 42,
     "metadata": {},
     "output_type": "execute_result"
    }
   ],
   "source": [
    "df.columns"
   ]
  },
  {
   "cell_type": "code",
   "execution_count": 43,
   "metadata": {
    "scrolled": true
   },
   "outputs": [
    {
     "data": {
      "text/plain": [
       "Intercept         -6.938894e-18\n",
       "Population         9.853229e-16\n",
       "violent_crime     -9.436896e-16\n",
       "murder            -1.942890e-16\n",
       "rape               1.457168e-15\n",
       "robbery            4.440892e-15\n",
       "aggrvt_asslt      -3.441691e-15\n",
       "burglary           1.207548e-01\n",
       "larceny_theft      8.284964e-01\n",
       "motor_veh_theft    5.266819e-02\n",
       "arson              9.714451e-17\n",
       "dtype: float64"
      ]
     },
     "execution_count": 43,
     "metadata": {},
     "output_type": "execute_result"
    }
   ],
   "source": [
    "lm.params"
   ]
  },
  {
   "cell_type": "code",
   "execution_count": 44,
   "metadata": {},
   "outputs": [
    {
     "data": {
      "text/plain": [
       "Intercept          0.872286\n",
       "Population         0.630047\n",
       "violent_crime      0.232979\n",
       "murder             0.863249\n",
       "rape               0.250696\n",
       "robbery            0.320392\n",
       "aggrvt_asslt       0.314046\n",
       "burglary           0.000000\n",
       "larceny_theft      0.000000\n",
       "motor_veh_theft    0.000000\n",
       "arson              0.167849\n",
       "dtype: float64"
      ]
     },
     "execution_count": 44,
     "metadata": {},
     "output_type": "execute_result"
    }
   ],
   "source": [
    "lm.pvalues"
   ]
  },
  {
   "cell_type": "code",
   "execution_count": 45,
   "metadata": {},
   "outputs": [
    {
     "data": {
      "text/plain": [
       "1.0"
      ]
     },
     "execution_count": 45,
     "metadata": {},
     "output_type": "execute_result"
    }
   ],
   "source": [
    "lm.rsquared"
   ]
  },
  {
   "cell_type": "code",
   "execution_count": null,
   "metadata": {},
   "outputs": [],
   "source": []
  },
  {
   "cell_type": "code",
   "execution_count": null,
   "metadata": {},
   "outputs": [],
   "source": []
  },
  {
   "cell_type": "code",
   "execution_count": 46,
   "metadata": {},
   "outputs": [],
   "source": [
    "# Write out the model formula.\n",
    "# Your dependent variable on the right, independent variables on the left\n",
    "# Use a ~ to represent an '=' from the functional form\n",
    "linear_formula = 'property_crime ~ Population+violent_crime+murder+rape+robbery+aggrvt_asslt+arson'\n",
    "\n",
    "# Fit the model to our data using the formula.\n",
    "lm = smf.ols(formula=linear_formula, data=df).fit()"
   ]
  },
  {
   "cell_type": "code",
   "execution_count": 47,
   "metadata": {},
   "outputs": [
    {
     "data": {
      "text/plain": [
       "Intercept       -6.938894e-18\n",
       "Population       6.514759e-01\n",
       "violent_crime   -9.225959e-02\n",
       "murder           7.417341e-02\n",
       "rape             5.145890e-01\n",
       "robbery          6.261875e-02\n",
       "aggrvt_asslt    -2.090984e-01\n",
       "arson            1.146454e-02\n",
       "dtype: float64"
      ]
     },
     "execution_count": 47,
     "metadata": {},
     "output_type": "execute_result"
    }
   ],
   "source": [
    "lm.params"
   ]
  },
  {
   "cell_type": "code",
   "execution_count": 48,
   "metadata": {},
   "outputs": [
    {
     "data": {
      "text/plain": [
       "Intercept        1.000000e+00\n",
       "Population       5.159585e-31\n",
       "violent_crime    1.657251e-03\n",
       "murder           8.402272e-02\n",
       "rape             8.002374e-41\n",
       "robbery          6.564893e-01\n",
       "aggrvt_asslt     7.279348e-02\n",
       "arson            5.462439e-06\n",
       "dtype: float64"
      ]
     },
     "execution_count": 48,
     "metadata": {},
     "output_type": "execute_result"
    }
   ],
   "source": [
    "lm.pvalues"
   ]
  },
  {
   "cell_type": "code",
   "execution_count": 49,
   "metadata": {},
   "outputs": [
    {
     "data": {
      "text/plain": [
       "0.9990612340053507"
      ]
     },
     "execution_count": 49,
     "metadata": {},
     "output_type": "execute_result"
    }
   ],
   "source": [
    "lm.rsquared"
   ]
  },
  {
   "cell_type": "code",
   "execution_count": null,
   "metadata": {},
   "outputs": [],
   "source": []
  },
  {
   "cell_type": "code",
   "execution_count": null,
   "metadata": {},
   "outputs": [],
   "source": []
  },
  {
   "cell_type": "code",
   "execution_count": null,
   "metadata": {},
   "outputs": [],
   "source": []
  },
  {
   "cell_type": "code",
   "execution_count": 50,
   "metadata": {},
   "outputs": [],
   "source": [
    "# Write out the model formula.\n",
    "# Your dependent variable on the right, independent variables on the left\n",
    "# Use a ~ to represent an '=' from the functional form\n",
    "linear_formula = 'property_crime ~ Population+violent_crime+rape++arson'\n",
    "\n",
    "# Fit the model to our data using the formula.\n",
    "lm = smf.ols(formula=linear_formula, data=df).fit()"
   ]
  },
  {
   "cell_type": "code",
   "execution_count": 51,
   "metadata": {},
   "outputs": [
    {
     "data": {
      "text/plain": [
       "Intercept       -6.938894e-18\n",
       "Population       5.780638e-01\n",
       "violent_crime   -1.461078e-01\n",
       "rape             5.689848e-01\n",
       "arson            1.559857e-02\n",
       "dtype: float64"
      ]
     },
     "execution_count": 51,
     "metadata": {},
     "output_type": "execute_result"
    }
   ],
   "source": [
    "lm.params"
   ]
  },
  {
   "cell_type": "code",
   "execution_count": 52,
   "metadata": {},
   "outputs": [
    {
     "data": {
      "text/plain": [
       "Intercept        1.000000e+00\n",
       "Population       4.317059e-31\n",
       "violent_crime    1.787605e-02\n",
       "rape             7.546606e-75\n",
       "arson            5.331993e-14\n",
       "dtype: float64"
      ]
     },
     "execution_count": 52,
     "metadata": {},
     "output_type": "execute_result"
    }
   ],
   "source": [
    "lm.pvalues"
   ]
  },
  {
   "cell_type": "code",
   "execution_count": 53,
   "metadata": {},
   "outputs": [
    {
     "data": {
      "text/plain": [
       "0.9990358727248779"
      ]
     },
     "execution_count": 53,
     "metadata": {},
     "output_type": "execute_result"
    }
   ],
   "source": [
    "lm.rsquared"
   ]
  },
  {
   "cell_type": "code",
   "execution_count": 54,
   "metadata": {},
   "outputs": [
    {
     "data": {
      "text/html": [
       "<div>\n",
       "<style scoped>\n",
       "    .dataframe tbody tr th:only-of-type {\n",
       "        vertical-align: middle;\n",
       "    }\n",
       "\n",
       "    .dataframe tbody tr th {\n",
       "        vertical-align: top;\n",
       "    }\n",
       "\n",
       "    .dataframe thead th {\n",
       "        text-align: right;\n",
       "    }\n",
       "</style>\n",
       "<table border=\"1\" class=\"dataframe\">\n",
       "  <thead>\n",
       "    <tr style=\"text-align: right;\">\n",
       "      <th></th>\n",
       "      <th>Population</th>\n",
       "      <th>violent_crime</th>\n",
       "      <th>murder</th>\n",
       "      <th>rape</th>\n",
       "      <th>robbery</th>\n",
       "      <th>aggrvt_asslt</th>\n",
       "      <th>property_crime</th>\n",
       "      <th>burglary</th>\n",
       "      <th>larceny_theft</th>\n",
       "      <th>motor_veh_theft</th>\n",
       "      <th>arson</th>\n",
       "      <th>population_sqr</th>\n",
       "    </tr>\n",
       "  </thead>\n",
       "  <tbody>\n",
       "    <tr>\n",
       "      <th>Adams Village</th>\n",
       "      <td>1861</td>\n",
       "      <td>0</td>\n",
       "      <td>0</td>\n",
       "      <td>0</td>\n",
       "      <td>0</td>\n",
       "      <td>0</td>\n",
       "      <td>12</td>\n",
       "      <td>2</td>\n",
       "      <td>10</td>\n",
       "      <td>0</td>\n",
       "      <td>0</td>\n",
       "      <td>3463321</td>\n",
       "    </tr>\n",
       "    <tr>\n",
       "      <th>Addison Town and Village</th>\n",
       "      <td>2577</td>\n",
       "      <td>3</td>\n",
       "      <td>0</td>\n",
       "      <td>0</td>\n",
       "      <td>0</td>\n",
       "      <td>3</td>\n",
       "      <td>24</td>\n",
       "      <td>3</td>\n",
       "      <td>20</td>\n",
       "      <td>1</td>\n",
       "      <td>0</td>\n",
       "      <td>6640929</td>\n",
       "    </tr>\n",
       "    <tr>\n",
       "      <th>Akron Village</th>\n",
       "      <td>2846</td>\n",
       "      <td>3</td>\n",
       "      <td>0</td>\n",
       "      <td>0</td>\n",
       "      <td>0</td>\n",
       "      <td>3</td>\n",
       "      <td>16</td>\n",
       "      <td>1</td>\n",
       "      <td>15</td>\n",
       "      <td>0</td>\n",
       "      <td>0</td>\n",
       "      <td>8099716</td>\n",
       "    </tr>\n",
       "    <tr>\n",
       "      <th>Albany</th>\n",
       "      <td>97956</td>\n",
       "      <td>791</td>\n",
       "      <td>8</td>\n",
       "      <td>30</td>\n",
       "      <td>227</td>\n",
       "      <td>526</td>\n",
       "      <td>4090</td>\n",
       "      <td>705</td>\n",
       "      <td>3243</td>\n",
       "      <td>142</td>\n",
       "      <td>0</td>\n",
       "      <td>9595377936</td>\n",
       "    </tr>\n",
       "    <tr>\n",
       "      <th>Albion Village</th>\n",
       "      <td>6388</td>\n",
       "      <td>23</td>\n",
       "      <td>0</td>\n",
       "      <td>3</td>\n",
       "      <td>4</td>\n",
       "      <td>16</td>\n",
       "      <td>223</td>\n",
       "      <td>53</td>\n",
       "      <td>165</td>\n",
       "      <td>5</td>\n",
       "      <td>0</td>\n",
       "      <td>40806544</td>\n",
       "    </tr>\n",
       "    <tr>\n",
       "      <th>Alfred Village</th>\n",
       "      <td>4089</td>\n",
       "      <td>5</td>\n",
       "      <td>0</td>\n",
       "      <td>0</td>\n",
       "      <td>3</td>\n",
       "      <td>2</td>\n",
       "      <td>46</td>\n",
       "      <td>10</td>\n",
       "      <td>36</td>\n",
       "      <td>0</td>\n",
       "      <td>0</td>\n",
       "      <td>16719921</td>\n",
       "    </tr>\n",
       "    <tr>\n",
       "      <th>Allegany Village</th>\n",
       "      <td>1781</td>\n",
       "      <td>3</td>\n",
       "      <td>0</td>\n",
       "      <td>0</td>\n",
       "      <td>0</td>\n",
       "      <td>3</td>\n",
       "      <td>10</td>\n",
       "      <td>0</td>\n",
       "      <td>10</td>\n",
       "      <td>0</td>\n",
       "      <td>0</td>\n",
       "      <td>3171961</td>\n",
       "    </tr>\n",
       "    <tr>\n",
       "      <th>Amherst Town</th>\n",
       "      <td>118296</td>\n",
       "      <td>107</td>\n",
       "      <td>1</td>\n",
       "      <td>7</td>\n",
       "      <td>31</td>\n",
       "      <td>68</td>\n",
       "      <td>2118</td>\n",
       "      <td>204</td>\n",
       "      <td>1882</td>\n",
       "      <td>32</td>\n",
       "      <td>3</td>\n",
       "      <td>13993943616</td>\n",
       "    </tr>\n",
       "    <tr>\n",
       "      <th>Amityville Village</th>\n",
       "      <td>9519</td>\n",
       "      <td>9</td>\n",
       "      <td>0</td>\n",
       "      <td>2</td>\n",
       "      <td>4</td>\n",
       "      <td>3</td>\n",
       "      <td>210</td>\n",
       "      <td>16</td>\n",
       "      <td>188</td>\n",
       "      <td>6</td>\n",
       "      <td>1</td>\n",
       "      <td>90611361</td>\n",
       "    </tr>\n",
       "    <tr>\n",
       "      <th>Amsterdam</th>\n",
       "      <td>18182</td>\n",
       "      <td>30</td>\n",
       "      <td>0</td>\n",
       "      <td>0</td>\n",
       "      <td>12</td>\n",
       "      <td>18</td>\n",
       "      <td>405</td>\n",
       "      <td>99</td>\n",
       "      <td>291</td>\n",
       "      <td>15</td>\n",
       "      <td>0</td>\n",
       "      <td>330585124</td>\n",
       "    </tr>\n",
       "    <tr>\n",
       "      <th>Arcade Village</th>\n",
       "      <td>2053</td>\n",
       "      <td>0</td>\n",
       "      <td>0</td>\n",
       "      <td>0</td>\n",
       "      <td>0</td>\n",
       "      <td>0</td>\n",
       "      <td>39</td>\n",
       "      <td>3</td>\n",
       "      <td>35</td>\n",
       "      <td>1</td>\n",
       "      <td>0</td>\n",
       "      <td>4214809</td>\n",
       "    </tr>\n",
       "    <tr>\n",
       "      <th>Ardsley Village</th>\n",
       "      <td>4523</td>\n",
       "      <td>5</td>\n",
       "      <td>0</td>\n",
       "      <td>0</td>\n",
       "      <td>3</td>\n",
       "      <td>2</td>\n",
       "      <td>33</td>\n",
       "      <td>4</td>\n",
       "      <td>28</td>\n",
       "      <td>1</td>\n",
       "      <td>0</td>\n",
       "      <td>20457529</td>\n",
       "    </tr>\n",
       "    <tr>\n",
       "      <th>Asharoken Village</th>\n",
       "      <td>658</td>\n",
       "      <td>0</td>\n",
       "      <td>0</td>\n",
       "      <td>0</td>\n",
       "      <td>0</td>\n",
       "      <td>0</td>\n",
       "      <td>2</td>\n",
       "      <td>0</td>\n",
       "      <td>2</td>\n",
       "      <td>0</td>\n",
       "      <td>0</td>\n",
       "      <td>432964</td>\n",
       "    </tr>\n",
       "    <tr>\n",
       "      <th>Attica Village</th>\n",
       "      <td>2522</td>\n",
       "      <td>2</td>\n",
       "      <td>0</td>\n",
       "      <td>0</td>\n",
       "      <td>0</td>\n",
       "      <td>2</td>\n",
       "      <td>5</td>\n",
       "      <td>0</td>\n",
       "      <td>4</td>\n",
       "      <td>1</td>\n",
       "      <td>0</td>\n",
       "      <td>6360484</td>\n",
       "    </tr>\n",
       "    <tr>\n",
       "      <th>Auburn</th>\n",
       "      <td>27270</td>\n",
       "      <td>96</td>\n",
       "      <td>1</td>\n",
       "      <td>20</td>\n",
       "      <td>22</td>\n",
       "      <td>53</td>\n",
       "      <td>859</td>\n",
       "      <td>132</td>\n",
       "      <td>721</td>\n",
       "      <td>6</td>\n",
       "      <td>0</td>\n",
       "      <td>743652900</td>\n",
       "    </tr>\n",
       "    <tr>\n",
       "      <th>Avon Village</th>\n",
       "      <td>3333</td>\n",
       "      <td>1</td>\n",
       "      <td>0</td>\n",
       "      <td>0</td>\n",
       "      <td>1</td>\n",
       "      <td>0</td>\n",
       "      <td>25</td>\n",
       "      <td>3</td>\n",
       "      <td>20</td>\n",
       "      <td>2</td>\n",
       "      <td>0</td>\n",
       "      <td>11108889</td>\n",
       "    </tr>\n",
       "    <tr>\n",
       "      <th>Baldwinsville Village</th>\n",
       "      <td>7473</td>\n",
       "      <td>5</td>\n",
       "      <td>0</td>\n",
       "      <td>0</td>\n",
       "      <td>1</td>\n",
       "      <td>4</td>\n",
       "      <td>88</td>\n",
       "      <td>10</td>\n",
       "      <td>77</td>\n",
       "      <td>1</td>\n",
       "      <td>0</td>\n",
       "      <td>55845729</td>\n",
       "    </tr>\n",
       "    <tr>\n",
       "      <th>Ballston Spa Village</th>\n",
       "      <td>5418</td>\n",
       "      <td>8</td>\n",
       "      <td>0</td>\n",
       "      <td>0</td>\n",
       "      <td>3</td>\n",
       "      <td>5</td>\n",
       "      <td>94</td>\n",
       "      <td>16</td>\n",
       "      <td>78</td>\n",
       "      <td>0</td>\n",
       "      <td>1</td>\n",
       "      <td>29354724</td>\n",
       "    </tr>\n",
       "    <tr>\n",
       "      <th>Batavia</th>\n",
       "      <td>15374</td>\n",
       "      <td>57</td>\n",
       "      <td>0</td>\n",
       "      <td>7</td>\n",
       "      <td>13</td>\n",
       "      <td>37</td>\n",
       "      <td>559</td>\n",
       "      <td>103</td>\n",
       "      <td>454</td>\n",
       "      <td>2</td>\n",
       "      <td>0</td>\n",
       "      <td>236359876</td>\n",
       "    </tr>\n",
       "    <tr>\n",
       "      <th>Bath Village</th>\n",
       "      <td>5733</td>\n",
       "      <td>15</td>\n",
       "      <td>0</td>\n",
       "      <td>1</td>\n",
       "      <td>3</td>\n",
       "      <td>11</td>\n",
       "      <td>191</td>\n",
       "      <td>32</td>\n",
       "      <td>157</td>\n",
       "      <td>2</td>\n",
       "      <td>2</td>\n",
       "      <td>32867289</td>\n",
       "    </tr>\n",
       "    <tr>\n",
       "      <th>Bedford Town</th>\n",
       "      <td>17627</td>\n",
       "      <td>5</td>\n",
       "      <td>0</td>\n",
       "      <td>0</td>\n",
       "      <td>1</td>\n",
       "      <td>4</td>\n",
       "      <td>156</td>\n",
       "      <td>26</td>\n",
       "      <td>127</td>\n",
       "      <td>3</td>\n",
       "      <td>0</td>\n",
       "      <td>310711129</td>\n",
       "    </tr>\n",
       "    <tr>\n",
       "      <th>Bethlehem Town</th>\n",
       "      <td>34243</td>\n",
       "      <td>13</td>\n",
       "      <td>0</td>\n",
       "      <td>0</td>\n",
       "      <td>3</td>\n",
       "      <td>10</td>\n",
       "      <td>442</td>\n",
       "      <td>50</td>\n",
       "      <td>388</td>\n",
       "      <td>4</td>\n",
       "      <td>0</td>\n",
       "      <td>1172583049</td>\n",
       "    </tr>\n",
       "    <tr>\n",
       "      <th>Binghamton</th>\n",
       "      <td>46304</td>\n",
       "      <td>284</td>\n",
       "      <td>3</td>\n",
       "      <td>19</td>\n",
       "      <td>101</td>\n",
       "      <td>161</td>\n",
       "      <td>2349</td>\n",
       "      <td>525</td>\n",
       "      <td>1767</td>\n",
       "      <td>57</td>\n",
       "      <td>0</td>\n",
       "      <td>2144060416</td>\n",
       "    </tr>\n",
       "    <tr>\n",
       "      <th>Black River</th>\n",
       "      <td>1410</td>\n",
       "      <td>0</td>\n",
       "      <td>0</td>\n",
       "      <td>0</td>\n",
       "      <td>0</td>\n",
       "      <td>0</td>\n",
       "      <td>14</td>\n",
       "      <td>2</td>\n",
       "      <td>12</td>\n",
       "      <td>0</td>\n",
       "      <td>0</td>\n",
       "      <td>1988100</td>\n",
       "    </tr>\n",
       "    <tr>\n",
       "      <th>Blooming Grove Town</th>\n",
       "      <td>12001</td>\n",
       "      <td>8</td>\n",
       "      <td>0</td>\n",
       "      <td>1</td>\n",
       "      <td>0</td>\n",
       "      <td>7</td>\n",
       "      <td>99</td>\n",
       "      <td>20</td>\n",
       "      <td>72</td>\n",
       "      <td>7</td>\n",
       "      <td>0</td>\n",
       "      <td>144024001</td>\n",
       "    </tr>\n",
       "    <tr>\n",
       "      <th>Bolivar Village</th>\n",
       "      <td>1022</td>\n",
       "      <td>1</td>\n",
       "      <td>0</td>\n",
       "      <td>0</td>\n",
       "      <td>0</td>\n",
       "      <td>1</td>\n",
       "      <td>4</td>\n",
       "      <td>2</td>\n",
       "      <td>2</td>\n",
       "      <td>0</td>\n",
       "      <td>0</td>\n",
       "      <td>1044484</td>\n",
       "    </tr>\n",
       "    <tr>\n",
       "      <th>Bolton Town</th>\n",
       "      <td>2325</td>\n",
       "      <td>2</td>\n",
       "      <td>0</td>\n",
       "      <td>0</td>\n",
       "      <td>0</td>\n",
       "      <td>2</td>\n",
       "      <td>24</td>\n",
       "      <td>4</td>\n",
       "      <td>20</td>\n",
       "      <td>0</td>\n",
       "      <td>0</td>\n",
       "      <td>5405625</td>\n",
       "    </tr>\n",
       "    <tr>\n",
       "      <th>Boonville Village</th>\n",
       "      <td>2054</td>\n",
       "      <td>1</td>\n",
       "      <td>0</td>\n",
       "      <td>0</td>\n",
       "      <td>0</td>\n",
       "      <td>1</td>\n",
       "      <td>20</td>\n",
       "      <td>6</td>\n",
       "      <td>14</td>\n",
       "      <td>0</td>\n",
       "      <td>0</td>\n",
       "      <td>4218916</td>\n",
       "    </tr>\n",
       "    <tr>\n",
       "      <th>Brant Town</th>\n",
       "      <td>2065</td>\n",
       "      <td>4</td>\n",
       "      <td>0</td>\n",
       "      <td>0</td>\n",
       "      <td>1</td>\n",
       "      <td>3</td>\n",
       "      <td>31</td>\n",
       "      <td>9</td>\n",
       "      <td>20</td>\n",
       "      <td>2</td>\n",
       "      <td>0</td>\n",
       "      <td>4264225</td>\n",
       "    </tr>\n",
       "    <tr>\n",
       "      <th>Brewster</th>\n",
       "      <td>2358</td>\n",
       "      <td>0</td>\n",
       "      <td>0</td>\n",
       "      <td>0</td>\n",
       "      <td>0</td>\n",
       "      <td>0</td>\n",
       "      <td>13</td>\n",
       "      <td>3</td>\n",
       "      <td>10</td>\n",
       "      <td>0</td>\n",
       "      <td>0</td>\n",
       "      <td>5560164</td>\n",
       "    </tr>\n",
       "    <tr>\n",
       "      <th>...</th>\n",
       "      <td>...</td>\n",
       "      <td>...</td>\n",
       "      <td>...</td>\n",
       "      <td>...</td>\n",
       "      <td>...</td>\n",
       "      <td>...</td>\n",
       "      <td>...</td>\n",
       "      <td>...</td>\n",
       "      <td>...</td>\n",
       "      <td>...</td>\n",
       "      <td>...</td>\n",
       "      <td>...</td>\n",
       "    </tr>\n",
       "    <tr>\n",
       "      <th>Tupper Lake Village</th>\n",
       "      <td>3642</td>\n",
       "      <td>3</td>\n",
       "      <td>0</td>\n",
       "      <td>0</td>\n",
       "      <td>0</td>\n",
       "      <td>3</td>\n",
       "      <td>83</td>\n",
       "      <td>22</td>\n",
       "      <td>59</td>\n",
       "      <td>2</td>\n",
       "      <td>0</td>\n",
       "      <td>13264164</td>\n",
       "    </tr>\n",
       "    <tr>\n",
       "      <th>Tuxedo Park Village</th>\n",
       "      <td>615</td>\n",
       "      <td>0</td>\n",
       "      <td>0</td>\n",
       "      <td>0</td>\n",
       "      <td>0</td>\n",
       "      <td>0</td>\n",
       "      <td>0</td>\n",
       "      <td>0</td>\n",
       "      <td>0</td>\n",
       "      <td>0</td>\n",
       "      <td>0</td>\n",
       "      <td>378225</td>\n",
       "    </tr>\n",
       "    <tr>\n",
       "      <th>Ulster Town</th>\n",
       "      <td>12195</td>\n",
       "      <td>14</td>\n",
       "      <td>0</td>\n",
       "      <td>3</td>\n",
       "      <td>2</td>\n",
       "      <td>9</td>\n",
       "      <td>437</td>\n",
       "      <td>25</td>\n",
       "      <td>410</td>\n",
       "      <td>2</td>\n",
       "      <td>0</td>\n",
       "      <td>148718025</td>\n",
       "    </tr>\n",
       "    <tr>\n",
       "      <th>Utica</th>\n",
       "      <td>61686</td>\n",
       "      <td>361</td>\n",
       "      <td>7</td>\n",
       "      <td>27</td>\n",
       "      <td>102</td>\n",
       "      <td>225</td>\n",
       "      <td>2528</td>\n",
       "      <td>449</td>\n",
       "      <td>1997</td>\n",
       "      <td>82</td>\n",
       "      <td>0</td>\n",
       "      <td>3805162596</td>\n",
       "    </tr>\n",
       "    <tr>\n",
       "      <th>Vestal Town</th>\n",
       "      <td>27980</td>\n",
       "      <td>16</td>\n",
       "      <td>0</td>\n",
       "      <td>2</td>\n",
       "      <td>6</td>\n",
       "      <td>8</td>\n",
       "      <td>571</td>\n",
       "      <td>39</td>\n",
       "      <td>523</td>\n",
       "      <td>9</td>\n",
       "      <td>0</td>\n",
       "      <td>782880400</td>\n",
       "    </tr>\n",
       "    <tr>\n",
       "      <th>Walden Village</th>\n",
       "      <td>6887</td>\n",
       "      <td>18</td>\n",
       "      <td>1</td>\n",
       "      <td>2</td>\n",
       "      <td>1</td>\n",
       "      <td>14</td>\n",
       "      <td>142</td>\n",
       "      <td>13</td>\n",
       "      <td>124</td>\n",
       "      <td>5</td>\n",
       "      <td>0</td>\n",
       "      <td>47430769</td>\n",
       "    </tr>\n",
       "    <tr>\n",
       "      <th>Wallkill Town</th>\n",
       "      <td>27940</td>\n",
       "      <td>40</td>\n",
       "      <td>0</td>\n",
       "      <td>3</td>\n",
       "      <td>16</td>\n",
       "      <td>21</td>\n",
       "      <td>767</td>\n",
       "      <td>91</td>\n",
       "      <td>650</td>\n",
       "      <td>26</td>\n",
       "      <td>1</td>\n",
       "      <td>780643600</td>\n",
       "    </tr>\n",
       "    <tr>\n",
       "      <th>Walton Village</th>\n",
       "      <td>3012</td>\n",
       "      <td>6</td>\n",
       "      <td>0</td>\n",
       "      <td>1</td>\n",
       "      <td>0</td>\n",
       "      <td>5</td>\n",
       "      <td>68</td>\n",
       "      <td>18</td>\n",
       "      <td>50</td>\n",
       "      <td>0</td>\n",
       "      <td>0</td>\n",
       "      <td>9072144</td>\n",
       "    </tr>\n",
       "    <tr>\n",
       "      <th>Warsaw Village</th>\n",
       "      <td>3453</td>\n",
       "      <td>6</td>\n",
       "      <td>0</td>\n",
       "      <td>1</td>\n",
       "      <td>0</td>\n",
       "      <td>5</td>\n",
       "      <td>78</td>\n",
       "      <td>5</td>\n",
       "      <td>73</td>\n",
       "      <td>0</td>\n",
       "      <td>0</td>\n",
       "      <td>11923209</td>\n",
       "    </tr>\n",
       "    <tr>\n",
       "      <th>Washingtonville Village</th>\n",
       "      <td>5828</td>\n",
       "      <td>2</td>\n",
       "      <td>0</td>\n",
       "      <td>0</td>\n",
       "      <td>1</td>\n",
       "      <td>1</td>\n",
       "      <td>58</td>\n",
       "      <td>5</td>\n",
       "      <td>51</td>\n",
       "      <td>2</td>\n",
       "      <td>0</td>\n",
       "      <td>33965584</td>\n",
       "    </tr>\n",
       "    <tr>\n",
       "      <th>Waterford Town and Village</th>\n",
       "      <td>8392</td>\n",
       "      <td>4</td>\n",
       "      <td>0</td>\n",
       "      <td>0</td>\n",
       "      <td>0</td>\n",
       "      <td>4</td>\n",
       "      <td>59</td>\n",
       "      <td>6</td>\n",
       "      <td>52</td>\n",
       "      <td>1</td>\n",
       "      <td>0</td>\n",
       "      <td>70425664</td>\n",
       "    </tr>\n",
       "    <tr>\n",
       "      <th>Waterloo Village</th>\n",
       "      <td>5175</td>\n",
       "      <td>11</td>\n",
       "      <td>0</td>\n",
       "      <td>0</td>\n",
       "      <td>3</td>\n",
       "      <td>8</td>\n",
       "      <td>194</td>\n",
       "      <td>23</td>\n",
       "      <td>169</td>\n",
       "      <td>2</td>\n",
       "      <td>0</td>\n",
       "      <td>26780625</td>\n",
       "    </tr>\n",
       "    <tr>\n",
       "      <th>Watertown</th>\n",
       "      <td>28179</td>\n",
       "      <td>109</td>\n",
       "      <td>0</td>\n",
       "      <td>12</td>\n",
       "      <td>16</td>\n",
       "      <td>81</td>\n",
       "      <td>1165</td>\n",
       "      <td>169</td>\n",
       "      <td>953</td>\n",
       "      <td>43</td>\n",
       "      <td>0</td>\n",
       "      <td>794056041</td>\n",
       "    </tr>\n",
       "    <tr>\n",
       "      <th>Watervliet</th>\n",
       "      <td>10245</td>\n",
       "      <td>26</td>\n",
       "      <td>1</td>\n",
       "      <td>3</td>\n",
       "      <td>11</td>\n",
       "      <td>11</td>\n",
       "      <td>242</td>\n",
       "      <td>58</td>\n",
       "      <td>163</td>\n",
       "      <td>21</td>\n",
       "      <td>0</td>\n",
       "      <td>104960025</td>\n",
       "    </tr>\n",
       "    <tr>\n",
       "      <th>Watkins Glen Village</th>\n",
       "      <td>1862</td>\n",
       "      <td>6</td>\n",
       "      <td>0</td>\n",
       "      <td>0</td>\n",
       "      <td>0</td>\n",
       "      <td>6</td>\n",
       "      <td>92</td>\n",
       "      <td>10</td>\n",
       "      <td>80</td>\n",
       "      <td>2</td>\n",
       "      <td>0</td>\n",
       "      <td>3467044</td>\n",
       "    </tr>\n",
       "    <tr>\n",
       "      <th>Waverly Village</th>\n",
       "      <td>4337</td>\n",
       "      <td>5</td>\n",
       "      <td>0</td>\n",
       "      <td>0</td>\n",
       "      <td>1</td>\n",
       "      <td>4</td>\n",
       "      <td>54</td>\n",
       "      <td>9</td>\n",
       "      <td>41</td>\n",
       "      <td>4</td>\n",
       "      <td>0</td>\n",
       "      <td>18809569</td>\n",
       "    </tr>\n",
       "    <tr>\n",
       "      <th>Webster Town and Village</th>\n",
       "      <td>43777</td>\n",
       "      <td>21</td>\n",
       "      <td>0</td>\n",
       "      <td>2</td>\n",
       "      <td>3</td>\n",
       "      <td>16</td>\n",
       "      <td>469</td>\n",
       "      <td>101</td>\n",
       "      <td>361</td>\n",
       "      <td>7</td>\n",
       "      <td>0</td>\n",
       "      <td>1916425729</td>\n",
       "    </tr>\n",
       "    <tr>\n",
       "      <th>Weedsport Village</th>\n",
       "      <td>1797</td>\n",
       "      <td>0</td>\n",
       "      <td>0</td>\n",
       "      <td>0</td>\n",
       "      <td>0</td>\n",
       "      <td>0</td>\n",
       "      <td>25</td>\n",
       "      <td>5</td>\n",
       "      <td>20</td>\n",
       "      <td>0</td>\n",
       "      <td>0</td>\n",
       "      <td>3229209</td>\n",
       "    </tr>\n",
       "    <tr>\n",
       "      <th>Wellsville Village</th>\n",
       "      <td>4574</td>\n",
       "      <td>11</td>\n",
       "      <td>0</td>\n",
       "      <td>1</td>\n",
       "      <td>0</td>\n",
       "      <td>10</td>\n",
       "      <td>164</td>\n",
       "      <td>32</td>\n",
       "      <td>129</td>\n",
       "      <td>3</td>\n",
       "      <td>1</td>\n",
       "      <td>20921476</td>\n",
       "    </tr>\n",
       "    <tr>\n",
       "      <th>Westhampton Beach Village</th>\n",
       "      <td>1732</td>\n",
       "      <td>2</td>\n",
       "      <td>0</td>\n",
       "      <td>0</td>\n",
       "      <td>0</td>\n",
       "      <td>2</td>\n",
       "      <td>44</td>\n",
       "      <td>4</td>\n",
       "      <td>37</td>\n",
       "      <td>3</td>\n",
       "      <td>0</td>\n",
       "      <td>2999824</td>\n",
       "    </tr>\n",
       "    <tr>\n",
       "      <th>West Seneca Town</th>\n",
       "      <td>44821</td>\n",
       "      <td>35</td>\n",
       "      <td>1</td>\n",
       "      <td>1</td>\n",
       "      <td>9</td>\n",
       "      <td>24</td>\n",
       "      <td>896</td>\n",
       "      <td>166</td>\n",
       "      <td>710</td>\n",
       "      <td>20</td>\n",
       "      <td>0</td>\n",
       "      <td>2008922041</td>\n",
       "    </tr>\n",
       "    <tr>\n",
       "      <th>Whitehall Village</th>\n",
       "      <td>2604</td>\n",
       "      <td>6</td>\n",
       "      <td>0</td>\n",
       "      <td>0</td>\n",
       "      <td>0</td>\n",
       "      <td>6</td>\n",
       "      <td>62</td>\n",
       "      <td>12</td>\n",
       "      <td>49</td>\n",
       "      <td>1</td>\n",
       "      <td>0</td>\n",
       "      <td>6780816</td>\n",
       "    </tr>\n",
       "    <tr>\n",
       "      <th>White Plains</th>\n",
       "      <td>57559</td>\n",
       "      <td>78</td>\n",
       "      <td>1</td>\n",
       "      <td>3</td>\n",
       "      <td>28</td>\n",
       "      <td>46</td>\n",
       "      <td>1232</td>\n",
       "      <td>77</td>\n",
       "      <td>1134</td>\n",
       "      <td>21</td>\n",
       "      <td>0</td>\n",
       "      <td>3313038481</td>\n",
       "    </tr>\n",
       "    <tr>\n",
       "      <th>Whitesboro Village</th>\n",
       "      <td>3733</td>\n",
       "      <td>4</td>\n",
       "      <td>0</td>\n",
       "      <td>0</td>\n",
       "      <td>0</td>\n",
       "      <td>4</td>\n",
       "      <td>36</td>\n",
       "      <td>14</td>\n",
       "      <td>21</td>\n",
       "      <td>1</td>\n",
       "      <td>0</td>\n",
       "      <td>13935289</td>\n",
       "    </tr>\n",
       "    <tr>\n",
       "      <th>Whitestown Town</th>\n",
       "      <td>9141</td>\n",
       "      <td>0</td>\n",
       "      <td>0</td>\n",
       "      <td>0</td>\n",
       "      <td>0</td>\n",
       "      <td>0</td>\n",
       "      <td>77</td>\n",
       "      <td>13</td>\n",
       "      <td>61</td>\n",
       "      <td>3</td>\n",
       "      <td>0</td>\n",
       "      <td>83557881</td>\n",
       "    </tr>\n",
       "    <tr>\n",
       "      <th>Woodbury Town</th>\n",
       "      <td>10685</td>\n",
       "      <td>3</td>\n",
       "      <td>0</td>\n",
       "      <td>0</td>\n",
       "      <td>2</td>\n",
       "      <td>1</td>\n",
       "      <td>541</td>\n",
       "      <td>9</td>\n",
       "      <td>529</td>\n",
       "      <td>3</td>\n",
       "      <td>0</td>\n",
       "      <td>114169225</td>\n",
       "    </tr>\n",
       "    <tr>\n",
       "      <th>Woodridge Village</th>\n",
       "      <td>829</td>\n",
       "      <td>7</td>\n",
       "      <td>0</td>\n",
       "      <td>0</td>\n",
       "      <td>0</td>\n",
       "      <td>7</td>\n",
       "      <td>17</td>\n",
       "      <td>8</td>\n",
       "      <td>9</td>\n",
       "      <td>0</td>\n",
       "      <td>0</td>\n",
       "      <td>687241</td>\n",
       "    </tr>\n",
       "    <tr>\n",
       "      <th>Woodstock Town</th>\n",
       "      <td>5931</td>\n",
       "      <td>2</td>\n",
       "      <td>0</td>\n",
       "      <td>0</td>\n",
       "      <td>0</td>\n",
       "      <td>2</td>\n",
       "      <td>58</td>\n",
       "      <td>13</td>\n",
       "      <td>45</td>\n",
       "      <td>0</td>\n",
       "      <td>0</td>\n",
       "      <td>35176761</td>\n",
       "    </tr>\n",
       "    <tr>\n",
       "      <th>Yonkers</th>\n",
       "      <td>199134</td>\n",
       "      <td>1036</td>\n",
       "      <td>6</td>\n",
       "      <td>25</td>\n",
       "      <td>390</td>\n",
       "      <td>615</td>\n",
       "      <td>2368</td>\n",
       "      <td>470</td>\n",
       "      <td>1662</td>\n",
       "      <td>236</td>\n",
       "      <td>10</td>\n",
       "      <td>39654349956</td>\n",
       "    </tr>\n",
       "    <tr>\n",
       "      <th>Yorktown Town</th>\n",
       "      <td>36643</td>\n",
       "      <td>15</td>\n",
       "      <td>0</td>\n",
       "      <td>0</td>\n",
       "      <td>2</td>\n",
       "      <td>13</td>\n",
       "      <td>334</td>\n",
       "      <td>45</td>\n",
       "      <td>287</td>\n",
       "      <td>2</td>\n",
       "      <td>0</td>\n",
       "      <td>1342709449</td>\n",
       "    </tr>\n",
       "  </tbody>\n",
       "</table>\n",
       "<p>348 rows × 12 columns</p>\n",
       "</div>"
      ],
      "text/plain": [
       "                           Population violent_crime murder rape robbery  \\\n",
       "Adams Village                    1861             0      0    0       0   \n",
       "Addison Town and Village         2577             3      0    0       0   \n",
       "Akron Village                    2846             3      0    0       0   \n",
       "Albany                          97956           791      8   30     227   \n",
       "Albion Village                   6388            23      0    3       4   \n",
       "Alfred Village                   4089             5      0    0       3   \n",
       "Allegany Village                 1781             3      0    0       0   \n",
       "Amherst Town                   118296           107      1    7      31   \n",
       "Amityville Village               9519             9      0    2       4   \n",
       "Amsterdam                       18182            30      0    0      12   \n",
       "Arcade Village                   2053             0      0    0       0   \n",
       "Ardsley Village                  4523             5      0    0       3   \n",
       "Asharoken Village                 658             0      0    0       0   \n",
       "Attica Village                   2522             2      0    0       0   \n",
       "Auburn                          27270            96      1   20      22   \n",
       "Avon Village                     3333             1      0    0       1   \n",
       "Baldwinsville Village            7473             5      0    0       1   \n",
       "Ballston Spa Village             5418             8      0    0       3   \n",
       "Batavia                         15374            57      0    7      13   \n",
       "Bath Village                     5733            15      0    1       3   \n",
       "Bedford Town                    17627             5      0    0       1   \n",
       "Bethlehem Town                  34243            13      0    0       3   \n",
       "Binghamton                      46304           284      3   19     101   \n",
       "Black River                      1410             0      0    0       0   \n",
       "Blooming Grove Town             12001             8      0    1       0   \n",
       "Bolivar Village                  1022             1      0    0       0   \n",
       "Bolton Town                      2325             2      0    0       0   \n",
       "Boonville Village                2054             1      0    0       0   \n",
       "Brant Town                       2065             4      0    0       1   \n",
       "Brewster                         2358             0      0    0       0   \n",
       "...                               ...           ...    ...  ...     ...   \n",
       "Tupper Lake Village              3642             3      0    0       0   \n",
       "Tuxedo Park Village               615             0      0    0       0   \n",
       "Ulster Town                     12195            14      0    3       2   \n",
       "Utica                           61686           361      7   27     102   \n",
       "Vestal Town                     27980            16      0    2       6   \n",
       "Walden Village                   6887            18      1    2       1   \n",
       "Wallkill Town                   27940            40      0    3      16   \n",
       "Walton Village                   3012             6      0    1       0   \n",
       "Warsaw Village                   3453             6      0    1       0   \n",
       "Washingtonville Village          5828             2      0    0       1   \n",
       "Waterford Town and Village       8392             4      0    0       0   \n",
       "Waterloo Village                 5175            11      0    0       3   \n",
       "Watertown                       28179           109      0   12      16   \n",
       "Watervliet                      10245            26      1    3      11   \n",
       "Watkins Glen Village             1862             6      0    0       0   \n",
       "Waverly Village                  4337             5      0    0       1   \n",
       "Webster Town and Village        43777            21      0    2       3   \n",
       "Weedsport Village                1797             0      0    0       0   \n",
       "Wellsville Village               4574            11      0    1       0   \n",
       "Westhampton Beach Village        1732             2      0    0       0   \n",
       "West Seneca Town                44821            35      1    1       9   \n",
       "Whitehall Village                2604             6      0    0       0   \n",
       "White Plains                    57559            78      1    3      28   \n",
       "Whitesboro Village               3733             4      0    0       0   \n",
       "Whitestown Town                  9141             0      0    0       0   \n",
       "Woodbury Town                   10685             3      0    0       2   \n",
       "Woodridge Village                 829             7      0    0       0   \n",
       "Woodstock Town                   5931             2      0    0       0   \n",
       "Yonkers                        199134          1036      6   25     390   \n",
       "Yorktown Town                   36643            15      0    0       2   \n",
       "\n",
       "                           aggrvt_asslt property_crime burglary larceny_theft  \\\n",
       "Adams Village                         0             12        2            10   \n",
       "Addison Town and Village              3             24        3            20   \n",
       "Akron Village                         3             16        1            15   \n",
       "Albany                              526           4090      705          3243   \n",
       "Albion Village                       16            223       53           165   \n",
       "Alfred Village                        2             46       10            36   \n",
       "Allegany Village                      3             10        0            10   \n",
       "Amherst Town                         68           2118      204          1882   \n",
       "Amityville Village                    3            210       16           188   \n",
       "Amsterdam                            18            405       99           291   \n",
       "Arcade Village                        0             39        3            35   \n",
       "Ardsley Village                       2             33        4            28   \n",
       "Asharoken Village                     0              2        0             2   \n",
       "Attica Village                        2              5        0             4   \n",
       "Auburn                               53            859      132           721   \n",
       "Avon Village                          0             25        3            20   \n",
       "Baldwinsville Village                 4             88       10            77   \n",
       "Ballston Spa Village                  5             94       16            78   \n",
       "Batavia                              37            559      103           454   \n",
       "Bath Village                         11            191       32           157   \n",
       "Bedford Town                          4            156       26           127   \n",
       "Bethlehem Town                       10            442       50           388   \n",
       "Binghamton                          161           2349      525          1767   \n",
       "Black River                           0             14        2            12   \n",
       "Blooming Grove Town                   7             99       20            72   \n",
       "Bolivar Village                       1              4        2             2   \n",
       "Bolton Town                           2             24        4            20   \n",
       "Boonville Village                     1             20        6            14   \n",
       "Brant Town                            3             31        9            20   \n",
       "Brewster                              0             13        3            10   \n",
       "...                                 ...            ...      ...           ...   \n",
       "Tupper Lake Village                   3             83       22            59   \n",
       "Tuxedo Park Village                   0              0        0             0   \n",
       "Ulster Town                           9            437       25           410   \n",
       "Utica                               225           2528      449          1997   \n",
       "Vestal Town                           8            571       39           523   \n",
       "Walden Village                       14            142       13           124   \n",
       "Wallkill Town                        21            767       91           650   \n",
       "Walton Village                        5             68       18            50   \n",
       "Warsaw Village                        5             78        5            73   \n",
       "Washingtonville Village               1             58        5            51   \n",
       "Waterford Town and Village            4             59        6            52   \n",
       "Waterloo Village                      8            194       23           169   \n",
       "Watertown                            81           1165      169           953   \n",
       "Watervliet                           11            242       58           163   \n",
       "Watkins Glen Village                  6             92       10            80   \n",
       "Waverly Village                       4             54        9            41   \n",
       "Webster Town and Village             16            469      101           361   \n",
       "Weedsport Village                     0             25        5            20   \n",
       "Wellsville Village                   10            164       32           129   \n",
       "Westhampton Beach Village             2             44        4            37   \n",
       "West Seneca Town                     24            896      166           710   \n",
       "Whitehall Village                     6             62       12            49   \n",
       "White Plains                         46           1232       77          1134   \n",
       "Whitesboro Village                    4             36       14            21   \n",
       "Whitestown Town                       0             77       13            61   \n",
       "Woodbury Town                         1            541        9           529   \n",
       "Woodridge Village                     7             17        8             9   \n",
       "Woodstock Town                        2             58       13            45   \n",
       "Yonkers                             615           2368      470          1662   \n",
       "Yorktown Town                        13            334       45           287   \n",
       "\n",
       "                           motor_veh_theft  arson population_sqr  \n",
       "Adams Village                            0      0        3463321  \n",
       "Addison Town and Village                 1      0        6640929  \n",
       "Akron Village                            0      0        8099716  \n",
       "Albany                                 142      0     9595377936  \n",
       "Albion Village                           5      0       40806544  \n",
       "Alfred Village                           0      0       16719921  \n",
       "Allegany Village                         0      0        3171961  \n",
       "Amherst Town                            32      3    13993943616  \n",
       "Amityville Village                       6      1       90611361  \n",
       "Amsterdam                               15      0      330585124  \n",
       "Arcade Village                           1      0        4214809  \n",
       "Ardsley Village                          1      0       20457529  \n",
       "Asharoken Village                        0      0         432964  \n",
       "Attica Village                           1      0        6360484  \n",
       "Auburn                                   6      0      743652900  \n",
       "Avon Village                             2      0       11108889  \n",
       "Baldwinsville Village                    1      0       55845729  \n",
       "Ballston Spa Village                     0      1       29354724  \n",
       "Batavia                                  2      0      236359876  \n",
       "Bath Village                             2      2       32867289  \n",
       "Bedford Town                             3      0      310711129  \n",
       "Bethlehem Town                           4      0     1172583049  \n",
       "Binghamton                              57      0     2144060416  \n",
       "Black River                              0      0        1988100  \n",
       "Blooming Grove Town                      7      0      144024001  \n",
       "Bolivar Village                          0      0        1044484  \n",
       "Bolton Town                              0      0        5405625  \n",
       "Boonville Village                        0      0        4218916  \n",
       "Brant Town                               2      0        4264225  \n",
       "Brewster                                 0      0        5560164  \n",
       "...                                    ...    ...            ...  \n",
       "Tupper Lake Village                      2      0       13264164  \n",
       "Tuxedo Park Village                      0      0         378225  \n",
       "Ulster Town                              2      0      148718025  \n",
       "Utica                                   82      0     3805162596  \n",
       "Vestal Town                              9      0      782880400  \n",
       "Walden Village                           5      0       47430769  \n",
       "Wallkill Town                           26      1      780643600  \n",
       "Walton Village                           0      0        9072144  \n",
       "Warsaw Village                           0      0       11923209  \n",
       "Washingtonville Village                  2      0       33965584  \n",
       "Waterford Town and Village               1      0       70425664  \n",
       "Waterloo Village                         2      0       26780625  \n",
       "Watertown                               43      0      794056041  \n",
       "Watervliet                              21      0      104960025  \n",
       "Watkins Glen Village                     2      0        3467044  \n",
       "Waverly Village                          4      0       18809569  \n",
       "Webster Town and Village                 7      0     1916425729  \n",
       "Weedsport Village                        0      0        3229209  \n",
       "Wellsville Village                       3      1       20921476  \n",
       "Westhampton Beach Village                3      0        2999824  \n",
       "West Seneca Town                        20      0     2008922041  \n",
       "Whitehall Village                        1      0        6780816  \n",
       "White Plains                            21      0     3313038481  \n",
       "Whitesboro Village                       1      0       13935289  \n",
       "Whitestown Town                          3      0       83557881  \n",
       "Woodbury Town                            3      0      114169225  \n",
       "Woodridge Village                        0      0         687241  \n",
       "Woodstock Town                           0      0       35176761  \n",
       "Yonkers                                236     10    39654349956  \n",
       "Yorktown Town                            2      0     1342709449  \n",
       "\n",
       "[348 rows x 12 columns]"
      ]
     },
     "execution_count": 54,
     "metadata": {},
     "output_type": "execute_result"
    }
   ],
   "source": [
    "df_o"
   ]
  },
  {
   "cell_type": "code",
   "execution_count": 55,
   "metadata": {},
   "outputs": [],
   "source": [
    "# 'property_crime' = 'burglary' + 'larceny_theft' + 'motor_veh_theft'"
   ]
  },
  {
   "cell_type": "code",
   "execution_count": null,
   "metadata": {},
   "outputs": [],
   "source": []
  },
  {
   "cell_type": "code",
   "execution_count": null,
   "metadata": {},
   "outputs": [],
   "source": []
  },
  {
   "cell_type": "code",
   "execution_count": 56,
   "metadata": {},
   "outputs": [],
   "source": [
    "# Write out the model formula.\n",
    "# Your dependent variable on the right, independent variables on the left\n",
    "# Use a ~ to represent an '=' from the functional form\n",
    "linear_formula = 'property_crime ~ Population+violent_crime+arson'\n",
    "\n",
    "# Fit the model to our data using the formula.\n",
    "lm = smf.ols(formula=linear_formula, data=df).fit()"
   ]
  },
  {
   "cell_type": "code",
   "execution_count": 57,
   "metadata": {},
   "outputs": [
    {
     "data": {
      "text/plain": [
       "Intercept       -6.938894e-18\n",
       "Population      -1.784884e-02\n",
       "violent_crime    1.014425e+00\n",
       "arson            3.596888e-02\n",
       "dtype: float64"
      ]
     },
     "execution_count": 57,
     "metadata": {},
     "output_type": "execute_result"
    }
   ],
   "source": [
    "lm.params"
   ]
  },
  {
   "cell_type": "code",
   "execution_count": 58,
   "metadata": {},
   "outputs": [
    {
     "data": {
      "text/plain": [
       "Intercept        1.000000e+00\n",
       "Population       7.699446e-01\n",
       "violent_crime    5.712103e-46\n",
       "arson            4.140757e-29\n",
       "dtype: float64"
      ]
     },
     "execution_count": 58,
     "metadata": {},
     "output_type": "execute_result"
    }
   ],
   "source": [
    "lm.pvalues"
   ]
  },
  {
   "cell_type": "code",
   "execution_count": 59,
   "metadata": {},
   "outputs": [
    {
     "data": {
      "text/plain": [
       "0.9974357426119952"
      ]
     },
     "execution_count": 59,
     "metadata": {},
     "output_type": "execute_result"
    }
   ],
   "source": [
    "lm.rsquared"
   ]
  },
  {
   "cell_type": "code",
   "execution_count": 60,
   "metadata": {},
   "outputs": [
    {
     "data": {
      "text/plain": [
       "Index(['Population', 'violent_crime', 'murder', 'rape', 'robbery',\n",
       "       'aggrvt_asslt', 'property_crime', 'burglary', 'larceny_theft',\n",
       "       'motor_veh_theft', 'arson', 'population_sqr', 'feat_violent_crime',\n",
       "       'feat_murder', 'feat_rape', 'feat_robbery', 'feat_aggrvt_asslt',\n",
       "       'feat_property_crime', 'feat_burglary', 'feat_larceny_theft',\n",
       "       'feat_motor_veh_theft', 'feat_arson'],\n",
       "      dtype='object')"
      ]
     },
     "execution_count": 60,
     "metadata": {},
     "output_type": "execute_result"
    }
   ],
   "source": [
    "df.columns"
   ]
  },
  {
   "cell_type": "code",
   "execution_count": 61,
   "metadata": {},
   "outputs": [],
   "source": [
    "# Write out the model formula.\n",
    "# Your dependent variable on the right, independent variables on the left\n",
    "# Use a ~ to represent an '=' from the functional form\n",
    "linear_formula = 'property_crime ~ Population+murder+robbery+rape+aggrvt_asslt+arson'\n",
    "\n",
    "# Fit the model to our data using the formula.\n",
    "lm = smf.ols(formula=linear_formula, data=df).fit()"
   ]
  },
  {
   "cell_type": "code",
   "execution_count": 62,
   "metadata": {},
   "outputs": [
    {
     "data": {
      "text/plain": [
       "Intercept      -6.938894e-18\n",
       "Population      6.514759e-01\n",
       "murder          7.357358e-02\n",
       "robbery         2.883062e-02\n",
       "rape            5.126088e-01\n",
       "aggrvt_asslt   -2.650103e-01\n",
       "arson           1.146454e-02\n",
       "dtype: float64"
      ]
     },
     "execution_count": 62,
     "metadata": {},
     "output_type": "execute_result"
    }
   ],
   "source": [
    "lm.params"
   ]
  },
  {
   "cell_type": "code",
   "execution_count": 63,
   "metadata": {},
   "outputs": [
    {
     "data": {
      "text/plain": [
       "Intercept       1.000000e+00\n",
       "Population      5.159585e-31\n",
       "murder          8.657733e-02\n",
       "robbery         8.320834e-01\n",
       "rape            6.624211e-41\n",
       "aggrvt_asslt    4.259993e-02\n",
       "arson           5.462439e-06\n",
       "dtype: float64"
      ]
     },
     "execution_count": 63,
     "metadata": {},
     "output_type": "execute_result"
    }
   ],
   "source": [
    "lm.pvalues"
   ]
  },
  {
   "cell_type": "code",
   "execution_count": 64,
   "metadata": {},
   "outputs": [
    {
     "data": {
      "text/plain": [
       "0.9990612340053507"
      ]
     },
     "execution_count": 64,
     "metadata": {},
     "output_type": "execute_result"
    }
   ],
   "source": [
    "lm.rsquared"
   ]
  },
  {
   "cell_type": "code",
   "execution_count": null,
   "metadata": {},
   "outputs": [],
   "source": []
  },
  {
   "cell_type": "code",
   "execution_count": 65,
   "metadata": {},
   "outputs": [],
   "source": [
    "# Write out the model formula.\n",
    "# Your dependent variable on the right, independent variables on the left\n",
    "# Use a ~ to represent an '=' from the functional form\n",
    "linear_formula = 'property_crime ~ Population+murder+rape+aggrvt_asslt+arson'\n",
    "\n",
    "# Fit the model to our data using the formula.\n",
    "lm = smf.ols(formula=linear_formula, data=df).fit()"
   ]
  },
  {
   "cell_type": "code",
   "execution_count": 66,
   "metadata": {},
   "outputs": [
    {
     "data": {
      "text/plain": [
       "Intercept      -6.938894e-18\n",
       "Population      6.525343e-01\n",
       "murder          7.970755e-02\n",
       "rape            5.104439e-01\n",
       "aggrvt_asslt   -2.411672e-01\n",
       "arson           1.137669e-02\n",
       "dtype: float64"
      ]
     },
     "execution_count": 66,
     "metadata": {},
     "output_type": "execute_result"
    }
   ],
   "source": [
    "lm.params"
   ]
  },
  {
   "cell_type": "code",
   "execution_count": 67,
   "metadata": {},
   "outputs": [
    {
     "data": {
      "text/plain": [
       "Intercept       1.000000e+00\n",
       "Population      2.058682e-31\n",
       "murder          1.191871e-02\n",
       "rape            7.808686e-44\n",
       "aggrvt_asslt    2.806406e-04\n",
       "arson           4.627237e-06\n",
       "dtype: float64"
      ]
     },
     "execution_count": 67,
     "metadata": {},
     "output_type": "execute_result"
    }
   ],
   "source": [
    "lm.pvalues"
   ]
  },
  {
   "cell_type": "code",
   "execution_count": 68,
   "metadata": {},
   "outputs": [
    {
     "data": {
      "text/plain": [
       "0.9990611100502965"
      ]
     },
     "execution_count": 68,
     "metadata": {},
     "output_type": "execute_result"
    }
   ],
   "source": [
    "lm.rsquared"
   ]
  },
  {
   "cell_type": "code",
   "execution_count": null,
   "metadata": {},
   "outputs": [],
   "source": []
  },
  {
   "cell_type": "code",
   "execution_count": null,
   "metadata": {},
   "outputs": [],
   "source": []
  },
  {
   "cell_type": "code",
   "execution_count": 69,
   "metadata": {},
   "outputs": [],
   "source": [
    "# Write out the model formula.\n",
    "# Your dependent variable on the right, independent variables on the left\n",
    "# Use a ~ to represent an '=' from the functional form\n",
    "linear_formula = 'property_crime ~ Population+rape+aggrvt_asslt+arson'\n",
    "\n",
    "# Fit the model to our data using the formula.\n",
    "lm = smf.ols(formula=linear_formula, data=df).fit()"
   ]
  },
  {
   "cell_type": "code",
   "execution_count": 70,
   "metadata": {},
   "outputs": [
    {
     "data": {
      "text/plain": [
       "Intercept      -6.938894e-18\n",
       "Population      6.094669e-01\n",
       "rape            5.698883e-01\n",
       "aggrvt_asslt   -1.783775e-01\n",
       "arson           1.494029e-02\n",
       "dtype: float64"
      ]
     },
     "execution_count": 70,
     "metadata": {},
     "output_type": "execute_result"
    }
   ],
   "source": [
    "lm.params"
   ]
  },
  {
   "cell_type": "code",
   "execution_count": 71,
   "metadata": {},
   "outputs": [
    {
     "data": {
      "text/plain": [
       "Intercept       1.000000e+00\n",
       "Population      1.135951e-30\n",
       "rape            1.966479e-85\n",
       "aggrvt_asslt    3.853302e-03\n",
       "arson           8.898150e-13\n",
       "dtype: float64"
      ]
     },
     "execution_count": 71,
     "metadata": {},
     "output_type": "execute_result"
    }
   ],
   "source": [
    "lm.pvalues"
   ]
  },
  {
   "cell_type": "code",
   "execution_count": 72,
   "metadata": {},
   "outputs": [
    {
     "data": {
      "text/plain": [
       "0.9990435644998936"
      ]
     },
     "execution_count": 72,
     "metadata": {},
     "output_type": "execute_result"
    }
   ],
   "source": [
    "lm.rsquared"
   ]
  },
  {
   "cell_type": "code",
   "execution_count": null,
   "metadata": {},
   "outputs": [],
   "source": []
  },
  {
   "cell_type": "code",
   "execution_count": null,
   "metadata": {},
   "outputs": [],
   "source": []
  },
  {
   "cell_type": "code",
   "execution_count": 73,
   "metadata": {},
   "outputs": [],
   "source": [
    "# Write out the model formula.\n",
    "# Your dependent variable on the right, independent variables on the left\n",
    "# Use a ~ to represent an '=' from the functional form\n",
    "linear_formula = 'property_crime ~ Population+feat_rape+feat_aggrvt_asslt+feat_arson'\n",
    "\n",
    "# Fit the model to our data using the formula.\n",
    "lm = smf.ols(formula=linear_formula, data=df).fit()"
   ]
  },
  {
   "cell_type": "code",
   "execution_count": 74,
   "metadata": {},
   "outputs": [
    {
     "data": {
      "text/plain": [
       "Intercept           -0.015682\n",
       "Population           0.980395\n",
       "feat_rape            0.062050\n",
       "feat_aggrvt_asslt    0.208530\n",
       "feat_arson           0.011090\n",
       "dtype: float64"
      ]
     },
     "execution_count": 74,
     "metadata": {},
     "output_type": "execute_result"
    }
   ],
   "source": [
    "lm.params"
   ]
  },
  {
   "cell_type": "code",
   "execution_count": 75,
   "metadata": {},
   "outputs": [
    {
     "data": {
      "text/plain": [
       "Intercept            7.826619e-05\n",
       "Population           0.000000e+00\n",
       "feat_rape            1.400454e-04\n",
       "feat_aggrvt_asslt    7.059753e-17\n",
       "feat_arson           4.094333e-01\n",
       "dtype: float64"
      ]
     },
     "execution_count": 75,
     "metadata": {},
     "output_type": "execute_result"
    }
   ],
   "source": [
    "lm.pvalues"
   ]
  },
  {
   "cell_type": "code",
   "execution_count": 76,
   "metadata": {},
   "outputs": [
    {
     "data": {
      "text/plain": [
       "0.9954596204126502"
      ]
     },
     "execution_count": 76,
     "metadata": {},
     "output_type": "execute_result"
    }
   ],
   "source": [
    "lm.rsquared"
   ]
  },
  {
   "cell_type": "code",
   "execution_count": null,
   "metadata": {},
   "outputs": [],
   "source": []
  },
  {
   "cell_type": "code",
   "execution_count": null,
   "metadata": {},
   "outputs": [],
   "source": []
  },
  {
   "cell_type": "code",
   "execution_count": 77,
   "metadata": {},
   "outputs": [],
   "source": [
    "# Write out the model formula.\n",
    "# Your dependent variable on the right, independent variables on the left\n",
    "# Use a ~ to represent an '=' from the functional form\n",
    "linear_formula = 'property_crime ~ Population+feat_rape+aggrvt_asslt+feat_arson'\n",
    "\n",
    "# Fit the model to our data using the formula.\n",
    "lm = smf.ols(formula=linear_formula, data=df).fit()"
   ]
  },
  {
   "cell_type": "code",
   "execution_count": 78,
   "metadata": {},
   "outputs": [
    {
     "data": {
      "text/plain": [
       "Intercept      -0.015064\n",
       "Population     -0.213847\n",
       "feat_rape       0.115571\n",
       "aggrvt_asslt    1.204311\n",
       "feat_arson      0.049809\n",
       "dtype: float64"
      ]
     },
     "execution_count": 78,
     "metadata": {},
     "output_type": "execute_result"
    }
   ],
   "source": [
    "lm.params"
   ]
  },
  {
   "cell_type": "code",
   "execution_count": 79,
   "metadata": {},
   "outputs": [
    {
     "data": {
      "text/plain": [
       "Intercept       5.051545e-06\n",
       "Population      3.732283e-03\n",
       "feat_rape       3.789301e-22\n",
       "aggrvt_asslt    3.947232e-45\n",
       "feat_arson      8.042313e-06\n",
       "dtype: float64"
      ]
     },
     "execution_count": 79,
     "metadata": {},
     "output_type": "execute_result"
    }
   ],
   "source": [
    "lm.pvalues"
   ]
  },
  {
   "cell_type": "code",
   "execution_count": 80,
   "metadata": {},
   "outputs": [
    {
     "data": {
      "text/plain": [
       "0.9968851538788961"
      ]
     },
     "execution_count": 80,
     "metadata": {},
     "output_type": "execute_result"
    }
   ],
   "source": [
    "lm.rsquared"
   ]
  },
  {
   "cell_type": "code",
   "execution_count": null,
   "metadata": {},
   "outputs": [],
   "source": []
  },
  {
   "cell_type": "code",
   "execution_count": null,
   "metadata": {},
   "outputs": [],
   "source": []
  },
  {
   "cell_type": "code",
   "execution_count": 81,
   "metadata": {},
   "outputs": [],
   "source": [
    "# Write out the model formula.\n",
    "# Your dependent variable on the right, independent variables on the left\n",
    "# Use a ~ to represent an '=' from the functional form\n",
    "linear_formula = 'property_crime ~ Population+rape+arson'\n",
    "\n",
    "# Fit the model to our data using the formula.\n",
    "lm = smf.ols(formula=linear_formula, data=df).fit()"
   ]
  },
  {
   "cell_type": "code",
   "execution_count": 82,
   "metadata": {},
   "outputs": [
    {
     "data": {
      "text/plain": [
       "Intercept    -6.938894e-18\n",
       "Population    4.766518e-01\n",
       "rape          5.240285e-01\n",
       "arson         1.628259e-02\n",
       "dtype: float64"
      ]
     },
     "execution_count": 82,
     "metadata": {},
     "output_type": "execute_result"
    }
   ],
   "source": [
    "lm.params"
   ]
  },
  {
   "cell_type": "code",
   "execution_count": 83,
   "metadata": {},
   "outputs": [
    {
     "data": {
      "text/plain": [
       "Intercept      1.000000e+00\n",
       "Population    1.787074e-107\n",
       "rape          6.123692e-118\n",
       "arson          4.007607e-15\n",
       "dtype: float64"
      ]
     },
     "execution_count": 83,
     "metadata": {},
     "output_type": "execute_result"
    }
   ],
   "source": [
    "lm.pvalues"
   ]
  },
  {
   "cell_type": "code",
   "execution_count": 84,
   "metadata": {},
   "outputs": [
    {
     "data": {
      "text/plain": [
       "0.9990199557423033"
      ]
     },
     "execution_count": 84,
     "metadata": {},
     "output_type": "execute_result"
    }
   ],
   "source": [
    "lm.rsquared"
   ]
  },
  {
   "cell_type": "code",
   "execution_count": null,
   "metadata": {},
   "outputs": [],
   "source": []
  },
  {
   "cell_type": "code",
   "execution_count": null,
   "metadata": {},
   "outputs": [],
   "source": []
  },
  {
   "cell_type": "code",
   "execution_count": 85,
   "metadata": {},
   "outputs": [],
   "source": [
    "# Write out the model formula.\n",
    "# Your dependent variable on the right, independent variables on the left\n",
    "# Use a ~ to represent an '=' from the functional form\n",
    "linear_formula = 'property_crime ~ Population+rape'\n",
    "\n",
    "# Fit the model to our data using the formula.\n",
    "lm = smf.ols(formula=linear_formula, data=df).fit()"
   ]
  },
  {
   "cell_type": "code",
   "execution_count": 86,
   "metadata": {},
   "outputs": [
    {
     "data": {
      "text/plain": [
       "Intercept    -6.938894e-18\n",
       "Population    4.147150e-01\n",
       "rape          5.869271e-01\n",
       "dtype: float64"
      ]
     },
     "execution_count": 86,
     "metadata": {},
     "output_type": "execute_result"
    }
   ],
   "source": [
    "lm.params"
   ]
  },
  {
   "cell_type": "code",
   "execution_count": 87,
   "metadata": {},
   "outputs": [
    {
     "data": {
      "text/plain": [
       "Intercept      1.000000e+00\n",
       "Population     1.606270e-99\n",
       "rape          1.293107e-140\n",
       "dtype: float64"
      ]
     },
     "execution_count": 87,
     "metadata": {},
     "output_type": "execute_result"
    }
   ],
   "source": [
    "lm.pvalues"
   ]
  },
  {
   "cell_type": "code",
   "execution_count": 88,
   "metadata": {},
   "outputs": [
    {
     "data": {
      "text/plain": [
       "0.9988271358839578"
      ]
     },
     "execution_count": 88,
     "metadata": {},
     "output_type": "execute_result"
    }
   ],
   "source": [
    "lm.rsquared"
   ]
  },
  {
   "cell_type": "code",
   "execution_count": null,
   "metadata": {},
   "outputs": [],
   "source": []
  },
  {
   "cell_type": "code",
   "execution_count": null,
   "metadata": {},
   "outputs": [],
   "source": []
  },
  {
   "cell_type": "code",
   "execution_count": null,
   "metadata": {},
   "outputs": [],
   "source": []
  },
  {
   "cell_type": "code",
   "execution_count": 89,
   "metadata": {},
   "outputs": [
    {
     "data": {
      "text/plain": [
       "35034.10000000002"
      ]
     },
     "execution_count": 89,
     "metadata": {},
     "output_type": "execute_result"
    }
   ],
   "source": [
    "np.percentile(df_o.Population, 90)"
   ]
  },
  {
   "cell_type": "code",
   "execution_count": 90,
   "metadata": {
    "scrolled": true
   },
   "outputs": [],
   "source": [
    "df_high = df_o[df_o['Population']>35034.10000000002]"
   ]
  },
  {
   "cell_type": "code",
   "execution_count": 93,
   "metadata": {},
   "outputs": [],
   "source": [
    "df_high_sc = pd.DataFrame(preprocessing.StandardScaler().fit_transform(df_high), columns=df_high.columns)"
   ]
  },
  {
   "cell_type": "code",
   "execution_count": 183,
   "metadata": {},
   "outputs": [],
   "source": [
    "df_low = df_o[df_o['Population']<=35034.10000000002]"
   ]
  },
  {
   "cell_type": "code",
   "execution_count": 184,
   "metadata": {},
   "outputs": [],
   "source": [
    "bin_df_low = pd.DataFrame(binarizer.transform(df_low))"
   ]
  },
  {
   "cell_type": "code",
   "execution_count": 185,
   "metadata": {},
   "outputs": [],
   "source": [
    "bin_df_low = bin_df_low.iloc[:, 1:-1]"
   ]
  },
  {
   "cell_type": "code",
   "execution_count": 186,
   "metadata": {
    "scrolled": true
   },
   "outputs": [],
   "source": [
    "bin_df_low.columns = ['feat_' + string for string in df_low.iloc[:, 1:-1].columns.tolist() ]\n",
    "bin_df_low.index = [string for string in df_low.index.tolist()]\n",
    "df_low = pd.concat([df_low, bin_df_low], axis=1)"
   ]
  },
  {
   "cell_type": "code",
   "execution_count": 187,
   "metadata": {},
   "outputs": [],
   "source": [
    "df_low_sc = pd.DataFrame(preprocessing.StandardScaler().fit_transform(df_low), columns=df_low.columns)"
   ]
  },
  {
   "cell_type": "code",
   "execution_count": 105,
   "metadata": {},
   "outputs": [],
   "source": [
    "# Write out the model formula.\n",
    "# Your dependent variable on the right, independent variables on the left\n",
    "# Use a ~ to represent an '=' from the functional form\n",
    "linear_formula = 'property_crime ~ Population+population_sqr+violent_crime+murder+rape+robbery+aggrvt_asslt+arson'\n",
    "\n",
    "# Fit the model to our data using the formula.\n",
    "lm = smf.ols(formula=linear_formula, data=df_high_sc).fit()"
   ]
  },
  {
   "cell_type": "code",
   "execution_count": 106,
   "metadata": {},
   "outputs": [
    {
     "data": {
      "text/plain": [
       "Intercept         0.000000\n",
       "Population        0.167926\n",
       "population_sqr    0.118076\n",
       "violent_crime     0.079917\n",
       "murder           -0.044445\n",
       "rape              0.529983\n",
       "robbery           0.091992\n",
       "aggrvt_asslt      0.058129\n",
       "arson             0.014183\n",
       "dtype: float64"
      ]
     },
     "execution_count": 106,
     "metadata": {},
     "output_type": "execute_result"
    }
   ],
   "source": [
    "lm.params"
   ]
  },
  {
   "cell_type": "code",
   "execution_count": 107,
   "metadata": {},
   "outputs": [
    {
     "data": {
      "text/plain": [
       "Intercept         1.000000\n",
       "Population        0.497767\n",
       "population_sqr    0.553956\n",
       "violent_crime     0.457869\n",
       "murder            0.747818\n",
       "rape              0.000422\n",
       "robbery           0.815239\n",
       "aggrvt_asslt      0.867972\n",
       "arson             0.035412\n",
       "dtype: float64"
      ]
     },
     "execution_count": 107,
     "metadata": {},
     "output_type": "execute_result"
    }
   ],
   "source": [
    "lm.pvalues"
   ]
  },
  {
   "cell_type": "code",
   "execution_count": 108,
   "metadata": {},
   "outputs": [
    {
     "data": {
      "text/plain": [
       "0.999562998794713"
      ]
     },
     "execution_count": 108,
     "metadata": {},
     "output_type": "execute_result"
    }
   ],
   "source": [
    "lm.rsquared"
   ]
  },
  {
   "cell_type": "code",
   "execution_count": 109,
   "metadata": {},
   "outputs": [],
   "source": [
    "# Write out the model formula.\n",
    "# Your dependent variable on the right, independent variables on the left\n",
    "# Use a ~ to represent an '=' from the functional form\n",
    "linear_formula = 'property_crime ~ rape+arson'\n",
    "\n",
    "# Fit the model to our data using the formula.\n",
    "lm = smf.ols(formula=linear_formula, data=df_high_sc).fit()"
   ]
  },
  {
   "cell_type": "code",
   "execution_count": 110,
   "metadata": {},
   "outputs": [
    {
     "data": {
      "text/plain": [
       "Intercept    0.000000\n",
       "rape         0.998810\n",
       "arson       -0.018582\n",
       "dtype: float64"
      ]
     },
     "execution_count": 110,
     "metadata": {},
     "output_type": "execute_result"
    }
   ],
   "source": [
    "lm.params"
   ]
  },
  {
   "cell_type": "code",
   "execution_count": 111,
   "metadata": {
    "scrolled": true
   },
   "outputs": [
    {
     "data": {
      "text/plain": [
       "Intercept    1.000000e+00\n",
       "rape         1.233244e-41\n",
       "arson        6.980326e-02\n",
       "dtype: float64"
      ]
     },
     "execution_count": 111,
     "metadata": {},
     "output_type": "execute_result"
    }
   ],
   "source": [
    "lm.pvalues"
   ]
  },
  {
   "cell_type": "code",
   "execution_count": 112,
   "metadata": {},
   "outputs": [
    {
     "data": {
      "text/plain": [
       "0.9968632972321297"
      ]
     },
     "execution_count": 112,
     "metadata": {},
     "output_type": "execute_result"
    }
   ],
   "source": [
    "lm.rsquared"
   ]
  },
  {
   "cell_type": "code",
   "execution_count": null,
   "metadata": {},
   "outputs": [],
   "source": []
  },
  {
   "cell_type": "code",
   "execution_count": 113,
   "metadata": {},
   "outputs": [],
   "source": [
    "# Write out the model formula.\n",
    "# Your dependent variable on the right, independent variables on the left\n",
    "# Use a ~ to represent an '=' from the functional form\n",
    "linear_formula = 'property_crime ~ rape'\n",
    "\n",
    "# Fit the model to our data using the formula.\n",
    "lm = smf.ols(formula=linear_formula, data=df_high_sc).fit()"
   ]
  },
  {
   "cell_type": "code",
   "execution_count": 114,
   "metadata": {},
   "outputs": [
    {
     "data": {
      "text/plain": [
       "Intercept    0.000000\n",
       "rape         0.998258\n",
       "dtype: float64"
      ]
     },
     "execution_count": 114,
     "metadata": {},
     "output_type": "execute_result"
    }
   ],
   "source": [
    "lm.params"
   ]
  },
  {
   "cell_type": "code",
   "execution_count": 115,
   "metadata": {},
   "outputs": [
    {
     "data": {
      "text/plain": [
       "Intercept    1.000000e+00\n",
       "rape         3.798553e-42\n",
       "dtype: float64"
      ]
     },
     "execution_count": 115,
     "metadata": {},
     "output_type": "execute_result"
    }
   ],
   "source": [
    "lm.pvalues"
   ]
  },
  {
   "cell_type": "code",
   "execution_count": 116,
   "metadata": {},
   "outputs": [
    {
     "data": {
      "text/plain": [
       "0.9965183225864596"
      ]
     },
     "execution_count": 116,
     "metadata": {},
     "output_type": "execute_result"
    }
   ],
   "source": [
    "lm.rsquared"
   ]
  },
  {
   "cell_type": "code",
   "execution_count": null,
   "metadata": {},
   "outputs": [],
   "source": []
  },
  {
   "cell_type": "code",
   "execution_count": 117,
   "metadata": {},
   "outputs": [],
   "source": [
    "# Write out the model formula.\n",
    "# Your dependent variable on the right, independent variables on the left\n",
    "# Use a ~ to represent an '=' from the functional form\n",
    "linear_formula = 'property_crime ~ burglary+larceny_theft+motor_veh_theft'\n",
    "\n",
    "# Fit the model to our data using the formula.\n",
    "lm = smf.ols(formula=linear_formula, data=df_high_sc).fit()"
   ]
  },
  {
   "cell_type": "code",
   "execution_count": 118,
   "metadata": {},
   "outputs": [
    {
     "data": {
      "text/plain": [
       "Intercept          0.000000\n",
       "burglary           0.118788\n",
       "larceny_theft      0.830255\n",
       "motor_veh_theft    0.052700\n",
       "dtype: float64"
      ]
     },
     "execution_count": 118,
     "metadata": {},
     "output_type": "execute_result"
    }
   ],
   "source": [
    "lm.params"
   ]
  },
  {
   "cell_type": "code",
   "execution_count": 119,
   "metadata": {},
   "outputs": [
    {
     "data": {
      "text/plain": [
       "Intercept          1.0\n",
       "burglary           0.0\n",
       "larceny_theft      0.0\n",
       "motor_veh_theft    0.0\n",
       "dtype: float64"
      ]
     },
     "execution_count": 119,
     "metadata": {},
     "output_type": "execute_result"
    }
   ],
   "source": [
    "lm.pvalues"
   ]
  },
  {
   "cell_type": "code",
   "execution_count": 120,
   "metadata": {},
   "outputs": [
    {
     "data": {
      "text/plain": [
       "1.0"
      ]
     },
     "execution_count": 120,
     "metadata": {},
     "output_type": "execute_result"
    }
   ],
   "source": [
    "lm.rsquared"
   ]
  },
  {
   "cell_type": "code",
   "execution_count": null,
   "metadata": {},
   "outputs": [],
   "source": []
  },
  {
   "cell_type": "code",
   "execution_count": null,
   "metadata": {},
   "outputs": [],
   "source": []
  },
  {
   "cell_type": "code",
   "execution_count": 199,
   "metadata": {},
   "outputs": [],
   "source": [
    "# Write out the model formula.\n",
    "# Your dependent variable on the right, independent variables on the left\n",
    "# Use a ~ to represent an '=' from the functional form\n",
    "linear_formula = 'property_crime ~ Population+population_sqr+murder+rape+robbery+aggrvt_asslt+arson+feat_murder+feat_rape+feat_robbery+feat_aggrvt_asslt+feat_arson'\n",
    "\n",
    "# Fit the model to our data using the formula.\n",
    "lm = smf.ols(formula=linear_formula, data=df_low_sc).fit()"
   ]
  },
  {
   "cell_type": "code",
   "execution_count": 200,
   "metadata": {},
   "outputs": [
    {
     "data": {
      "text/plain": [
       "Intercept           -2.428613e-17\n",
       "Population           2.967912e-01\n",
       "population_sqr       1.490811e-01\n",
       "murder              -3.042864e-01\n",
       "rape                 2.371856e-01\n",
       "robbery              3.360290e-01\n",
       "aggrvt_asslt         7.351516e-02\n",
       "arson               -1.371470e-01\n",
       "feat_murder          1.094812e-01\n",
       "feat_rape            5.102656e-02\n",
       "feat_robbery         1.238171e-01\n",
       "feat_aggrvt_asslt    1.542568e-02\n",
       "feat_arson           1.411734e-01\n",
       "dtype: float64"
      ]
     },
     "execution_count": 200,
     "metadata": {},
     "output_type": "execute_result"
    }
   ],
   "source": [
    "lm.params"
   ]
  },
  {
   "cell_type": "code",
   "execution_count": 201,
   "metadata": {},
   "outputs": [
    {
     "data": {
      "text/plain": [
       "Intercept            1.000000\n",
       "Population           0.012132\n",
       "population_sqr       0.184903\n",
       "murder               0.000004\n",
       "rape                 0.000107\n",
       "robbery              0.001007\n",
       "aggrvt_asslt         0.466078\n",
       "arson                0.011247\n",
       "feat_murder          0.018447\n",
       "feat_rape            0.182660\n",
       "feat_robbery         0.000744\n",
       "feat_aggrvt_asslt    0.635076\n",
       "feat_arson           0.001257\n",
       "dtype: float64"
      ]
     },
     "execution_count": 201,
     "metadata": {},
     "output_type": "execute_result"
    }
   ],
   "source": [
    "lm.pvalues"
   ]
  },
  {
   "cell_type": "code",
   "execution_count": 202,
   "metadata": {},
   "outputs": [
    {
     "data": {
      "text/plain": [
       "0.7659015535110191"
      ]
     },
     "execution_count": 202,
     "metadata": {},
     "output_type": "execute_result"
    }
   ],
   "source": [
    "lm.rsquared"
   ]
  },
  {
   "cell_type": "code",
   "execution_count": 203,
   "metadata": {},
   "outputs": [],
   "source": [
    "# Write out the model formula.\n",
    "# Your dependent variable on the right, independent variables on the left\n",
    "# Use a ~ to represent an '=' from the functional form\n",
    "linear_formula = 'property_crime ~ Population+murder+rape+robbery+aggrvt_asslt+arson+feat_murder+feat_robbery+feat_arson'\n",
    "\n",
    "# Fit the model to our data using the formula.\n",
    "lm = smf.ols(formula=linear_formula, data=df_low_sc).fit()"
   ]
  },
  {
   "cell_type": "code",
   "execution_count": 204,
   "metadata": {},
   "outputs": [
    {
     "data": {
      "text/plain": [
       "Intercept      -2.428613e-17\n",
       "Population      4.529988e-01\n",
       "murder         -3.078687e-01\n",
       "rape            2.687916e-01\n",
       "robbery         3.527748e-01\n",
       "aggrvt_asslt    5.986408e-02\n",
       "arson          -1.512766e-01\n",
       "feat_murder     1.106294e-01\n",
       "feat_robbery    1.236069e-01\n",
       "feat_arson      1.540207e-01\n",
       "dtype: float64"
      ]
     },
     "execution_count": 204,
     "metadata": {},
     "output_type": "execute_result"
    }
   ],
   "source": [
    "lm.params"
   ]
  },
  {
   "cell_type": "code",
   "execution_count": 205,
   "metadata": {},
   "outputs": [
    {
     "data": {
      "text/plain": [
       "Intercept       1.000000e+00\n",
       "Population      3.355635e-28\n",
       "murder          2.900981e-06\n",
       "rape            1.427781e-06\n",
       "robbery         3.837726e-04\n",
       "aggrvt_asslt    5.376402e-01\n",
       "arson           4.691324e-03\n",
       "feat_murder     1.695274e-02\n",
       "feat_robbery    2.086612e-04\n",
       "feat_arson      3.489567e-04\n",
       "dtype: float64"
      ]
     },
     "execution_count": 205,
     "metadata": {},
     "output_type": "execute_result"
    }
   ],
   "source": [
    "lm.pvalues"
   ]
  },
  {
   "cell_type": "code",
   "execution_count": 206,
   "metadata": {},
   "outputs": [
    {
     "data": {
      "text/plain": [
       "0.7633211964354317"
      ]
     },
     "execution_count": 206,
     "metadata": {},
     "output_type": "execute_result"
    }
   ],
   "source": [
    "lm.rsquared"
   ]
  },
  {
   "cell_type": "code",
   "execution_count": 207,
   "metadata": {},
   "outputs": [],
   "source": [
    "# Write out the model formula.\n",
    "# Your dependent variable on the right, independent variables on the left\n",
    "# Use a ~ to represent an '=' from the functional form\n",
    "linear_formula = 'property_crime ~ Population+murder+rape+robbery+arson+feat_robbery+feat_arson'\n",
    "\n",
    "# Fit the model to our data using the formula.\n",
    "lm = smf.ols(formula=linear_formula, data=df_low_sc).fit()"
   ]
  },
  {
   "cell_type": "code",
   "execution_count": 208,
   "metadata": {},
   "outputs": [
    {
     "data": {
      "text/plain": [
       "Intercept      -2.428613e-17\n",
       "Population      4.683360e-01\n",
       "murder         -1.964691e-01\n",
       "rape            3.160374e-01\n",
       "robbery         3.142882e-01\n",
       "arson          -1.300601e-01\n",
       "feat_robbery    1.351136e-01\n",
       "feat_arson      1.444760e-01\n",
       "dtype: float64"
      ]
     },
     "execution_count": 208,
     "metadata": {},
     "output_type": "execute_result"
    }
   ],
   "source": [
    "lm.params"
   ]
  },
  {
   "cell_type": "code",
   "execution_count": 209,
   "metadata": {},
   "outputs": [
    {
     "data": {
      "text/plain": [
       "Intercept       1.000000e+00\n",
       "Population      4.131064e-30\n",
       "murder          1.738177e-05\n",
       "rape            8.285596e-13\n",
       "robbery         7.363572e-06\n",
       "arson           1.376763e-02\n",
       "feat_robbery    4.720863e-05\n",
       "feat_arson      8.013394e-04\n",
       "dtype: float64"
      ]
     },
     "execution_count": 209,
     "metadata": {},
     "output_type": "execute_result"
    }
   ],
   "source": [
    "lm.pvalues"
   ]
  },
  {
   "cell_type": "code",
   "execution_count": 210,
   "metadata": {},
   "outputs": [
    {
     "data": {
      "text/plain": [
       "0.7585996746579508"
      ]
     },
     "execution_count": 210,
     "metadata": {},
     "output_type": "execute_result"
    }
   ],
   "source": [
    "lm.rsquared"
   ]
  },
  {
   "cell_type": "code",
   "execution_count": 211,
   "metadata": {},
   "outputs": [],
   "source": [
    "# Write out the model formula.\n",
    "# Your dependent variable on the right, independent variables on the left\n",
    "# Use a ~ to represent an '=' from the functional form\n",
    "linear_formula = 'property_crime ~ Population+murder+rape+robbery+arson'\n",
    "\n",
    "# Fit the model to our data using the formula.\n",
    "lm = smf.ols(formula=linear_formula, data=df_low_sc).fit()"
   ]
  },
  {
   "cell_type": "code",
   "execution_count": 212,
   "metadata": {},
   "outputs": [
    {
     "data": {
      "text/plain": [
       "Intercept    -2.428613e-17\n",
       "Population    5.568189e-01\n",
       "murder       -1.824415e-01\n",
       "rape          3.518824e-01\n",
       "robbery       2.206947e-01\n",
       "arson         2.799059e-03\n",
       "dtype: float64"
      ]
     },
     "execution_count": 212,
     "metadata": {},
     "output_type": "execute_result"
    }
   ],
   "source": [
    "lm.params"
   ]
  },
  {
   "cell_type": "code",
   "execution_count": 213,
   "metadata": {},
   "outputs": [
    {
     "data": {
      "text/plain": [
       "Intercept     1.000000e+00\n",
       "Population    7.105040e-43\n",
       "murder        1.037257e-04\n",
       "rape          1.527988e-14\n",
       "robbery       7.477990e-04\n",
       "arson         9.404485e-01\n",
       "dtype: float64"
      ]
     },
     "execution_count": 213,
     "metadata": {},
     "output_type": "execute_result"
    }
   ],
   "source": [
    "lm.pvalues"
   ]
  },
  {
   "cell_type": "code",
   "execution_count": 214,
   "metadata": {},
   "outputs": [
    {
     "data": {
      "text/plain": [
       "0.7341987949748324"
      ]
     },
     "execution_count": 214,
     "metadata": {},
     "output_type": "execute_result"
    }
   ],
   "source": [
    "lm.rsquared"
   ]
  },
  {
   "cell_type": "code",
   "execution_count": 215,
   "metadata": {},
   "outputs": [],
   "source": [
    "# Write out the model formula.\n",
    "# Your dependent variable on the right, independent variables on the left\n",
    "# Use a ~ to represent an '=' from the functional form\n",
    "linear_formula = 'property_crime ~ Population+rape'\n",
    "\n",
    "# Fit the model to our data using the formula.\n",
    "lm = smf.ols(formula=linear_formula, data=df_low_sc).fit()"
   ]
  },
  {
   "cell_type": "code",
   "execution_count": 216,
   "metadata": {},
   "outputs": [
    {
     "data": {
      "text/plain": [
       "Intercept    -2.428613e-17\n",
       "Population    5.766759e-01\n",
       "rape          4.064297e-01\n",
       "dtype: float64"
      ]
     },
     "execution_count": 216,
     "metadata": {},
     "output_type": "execute_result"
    }
   ],
   "source": [
    "lm.params"
   ]
  },
  {
   "cell_type": "code",
   "execution_count": 217,
   "metadata": {},
   "outputs": [
    {
     "data": {
      "text/plain": [
       "Intercept     1.000000e+00\n",
       "Population    8.550344e-46\n",
       "rape          3.880354e-27\n",
       "dtype: float64"
      ]
     },
     "execution_count": 217,
     "metadata": {},
     "output_type": "execute_result"
    }
   ],
   "source": [
    "lm.pvalues"
   ]
  },
  {
   "cell_type": "code",
   "execution_count": 218,
   "metadata": {},
   "outputs": [
    {
     "data": {
      "text/plain": [
       "0.7182889326145071"
      ]
     },
     "execution_count": 218,
     "metadata": {},
     "output_type": "execute_result"
    }
   ],
   "source": [
    "lm.rsquared"
   ]
  },
  {
   "cell_type": "code",
   "execution_count": null,
   "metadata": {},
   "outputs": [],
   "source": []
  },
  {
   "cell_type": "markdown",
   "metadata": {},
   "source": [
    "#### 'Population' and 'rape' appear to be the most significant variables influencing 'property_crime' (not including the individual categories that comprise 'property_crime')\n",
    "#### Running a regression on the dataset as a whole and on the higher-population of cities returns a very high R^2\n",
    "#### not so high for lower-population cities (~<35000)\n",
    "#### could create feature for high/low population"
   ]
  },
  {
   "cell_type": "code",
   "execution_count": null,
   "metadata": {},
   "outputs": [],
   "source": []
  },
  {
   "cell_type": "code",
   "execution_count": null,
   "metadata": {},
   "outputs": [],
   "source": []
  },
  {
   "cell_type": "code",
   "execution_count": null,
   "metadata": {},
   "outputs": [],
   "source": []
  },
  {
   "cell_type": "code",
   "execution_count": null,
   "metadata": {},
   "outputs": [],
   "source": []
  }
 ],
 "metadata": {
  "kernelspec": {
   "display_name": "Python 3",
   "language": "python",
   "name": "python3"
  },
  "language_info": {
   "codemirror_mode": {
    "name": "ipython",
    "version": 3
   },
   "file_extension": ".py",
   "mimetype": "text/x-python",
   "name": "python",
   "nbconvert_exporter": "python",
   "pygments_lexer": "ipython3",
   "version": "3.6.4"
  }
 },
 "nbformat": 4,
 "nbformat_minor": 2
}
